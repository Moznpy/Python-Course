{
  "nbformat": 4,
  "nbformat_minor": 0,
  "metadata": {
    "colab": {
      "provenance": [],
      "authorship_tag": "ABX9TyOHm9kFbMfdnVVywprdsnv/",
      "include_colab_link": true
    },
    "kernelspec": {
      "name": "python3",
      "display_name": "Python 3"
    },
    "language_info": {
      "name": "python"
    }
  },
  "cells": [
    {
      "cell_type": "markdown",
      "metadata": {
        "id": "view-in-github",
        "colab_type": "text"
      },
      "source": [
        "<a href=\"https://colab.research.google.com/github/Moznpy/Python-Course/blob/main/Lambda_function.ipynb\" target=\"_parent\"><img src=\"https://colab.research.google.com/assets/colab-badge.svg\" alt=\"Open In Colab\"/></a>"
      ]
    },
    {
      "cell_type": "code",
      "execution_count": null,
      "metadata": {
        "id": "31RTSBMrf8Ko"
      },
      "outputs": [],
      "source": [
        "# A lambda function in Python is a small, anonymous function that is defined using the lambda keyword. \n",
        "# It is used to create small, throwaway functions for one-time use. Lambda functions can take any number of arguments, but can only have one expression.\n",
        "\n"
      ]
    },
    {
      "cell_type": "code",
      "source": [
        "# The syntax for a lambda function in Python is as follows:\n",
        "# lambda arguments: expression\n",
        "\n",
        "# The lambda keyword is used to define a lambda function.\n",
        "# The arguments are the input values that the lambda function takes. They are separated by commas if there are multiple arguments.\n",
        "# The expression is the single line of code that the lambda function runs. It is what the lambda function returns when it is called.\n",
        "\n",
        "\n",
        "# lambda function that squares a number\n",
        "square = lambda x: x**2\n",
        "\n",
        "\n",
        "# lambda function that checks if a number is even\n",
        "is_even = lambda x: x % 2 == 0\n",
        "\n",
        "# lambda function that returns the first letter of a string\n",
        "first_letter = lambda x: x[0]\n",
        "\n",
        "first_letter(\"hello\")\n",
        "\n",
        "\n"
      ],
      "metadata": {
        "colab": {
          "base_uri": "https://localhost:8080/",
          "height": 36
        },
        "id": "tpzGJovikcKu",
        "outputId": "ca21b3f0-0fec-41cd-96c6-c106066ea498"
      },
      "execution_count": 15,
      "outputs": [
        {
          "output_type": "execute_result",
          "data": {
            "text/plain": [
              "'h'"
            ],
            "application/vnd.google.colaboratory.intrinsic+json": {
              "type": "string"
            }
          },
          "metadata": {},
          "execution_count": 15
        }
      ]
    },
    {
      "cell_type": "code",
      "source": [
        "# Here's an example of using a lambda function to square a number:\n",
        "\n",
        "square = lambda x: x**2\n",
        "square(5)\n",
        "\n"
      ],
      "metadata": {
        "id": "9kZdURjpjZRK"
      },
      "execution_count": 2,
      "outputs": []
    },
    {
      "cell_type": "code",
      "source": [
        "# Here's an example of using a lambda function to filter even numbers\n",
        "\n",
        "numbers = [1, 2, 3, 4, 5]\n",
        "even_numbers = filter(lambda x: x % 2 == 0, numbers)\n",
        "list(even_numbers)"
      ],
      "metadata": {
        "colab": {
          "base_uri": "https://localhost:8080/"
        },
        "id": "ERJNH8x-jfXG",
        "outputId": "55facc20-229b-4fd6-ba40-3652280311b5"
      },
      "execution_count": 16,
      "outputs": [
        {
          "output_type": "execute_result",
          "data": {
            "text/plain": [
              "[2, 4]"
            ]
          },
          "metadata": {},
          "execution_count": 16
        }
      ]
    },
    {
      "cell_type": "code",
      "source": [
        "# Lambda functions can also be used as arguments to other functions like map() and filter()\n",
        "\n",
        "string_list = ['hello', 'world']\n",
        "upper_case_string = map(lambda x: x.upper(), string_list)\n",
        "list(upper_case_string)\n",
        "\n"
      ],
      "metadata": {
        "colab": {
          "base_uri": "https://localhost:8080/"
        },
        "id": "qVxD8XHejmNE",
        "outputId": "dfd6aa86-e97b-40dc-e460-d87fae58b7e2"
      },
      "execution_count": 18,
      "outputs": [
        {
          "output_type": "execute_result",
          "data": {
            "text/plain": [
              "['HELLO', 'WORLD']"
            ]
          },
          "metadata": {},
          "execution_count": 18
        }
      ]
    },
    {
      "cell_type": "code",
      "source": [
        "string_list = ['hello', 'world', 'goodbye']\n",
        "filtered_string = filter(lambda x: 'e' not in x, string_list)\n",
        "list(filtered_string)\n"
      ],
      "metadata": {
        "colab": {
          "base_uri": "https://localhost:8080/"
        },
        "id": "ZvIhMlg4jqDZ",
        "outputId": "e1e594a1-952e-4268-ff36-84a5ac65a2f8"
      },
      "execution_count": 1,
      "outputs": [
        {
          "output_type": "execute_result",
          "data": {
            "text/plain": [
              "['world']"
            ]
          },
          "metadata": {},
          "execution_count": 1
        }
      ]
    },
    {
      "cell_type": "code",
      "source": [
        "# Lambda functions can be useful when you need a small, throwaway function for a one-time use,\n",
        "#  or when you need to pass a function as an argument to a higher-order function."
      ],
      "metadata": {
        "id": "Q6bOtZpzjxBf"
      },
      "execution_count": null,
      "outputs": []
    }
  ]
}