{
  "nbformat": 4,
  "nbformat_minor": 0,
  "metadata": {
    "colab": {
      "provenance": [],
      "authorship_tag": "ABX9TyMaCqy+JqeLo/DaHwwZygbE",
      "include_colab_link": true
    },
    "kernelspec": {
      "name": "python3",
      "display_name": "Python 3"
    },
    "language_info": {
      "name": "python"
    }
  },
  "cells": [
    {
      "cell_type": "markdown",
      "metadata": {
        "id": "view-in-github",
        "colab_type": "text"
      },
      "source": [
        "<a href=\"https://colab.research.google.com/github/Moznpy/Python-Course/blob/main/If%2C_elif_and_else_in_python.ipynb\" target=\"_parent\"><img src=\"https://colab.research.google.com/assets/colab-badge.svg\" alt=\"Open In Colab\"/></a>"
      ]
    },
    {
      "cell_type": "code",
      "source": [
        "# # # In Python, if statements are used to perform different actions based on whether a certain condition is true or false.\n",
        "# The if statement must always be followed by a condition, which is a boolean expression that evaluates to either True or False.\n",
        "# The condition is followed by a colon (:) and the code block that will be executed if the condition is true must be indented.\n",
        "\n",
        "# # The general syntax for an if statement is:\n",
        "\n",
        "if condition:\n",
        "  # code to be executed if condition is true\n"
      ],
      "metadata": {
        "id": "d9RyzS1nMdUU"
      },
      "execution_count": 1,
      "outputs": []
    },
    {
      "cell_type": "code",
      "source": [
        "# You can also use elif, which stands for \"else if,\" to include additional conditions.\n",
        "# elif blocks are optional and can be added after an if statement, like this:\n",
        "\n",
        "if condition1:\n",
        "    # code to be executed if condition1 is true\n",
        "elif condition2:\n",
        "    # code to be executed if condition1 is false and condition2 is true\n",
        "\n",
        "# You can have as many elif blocks as you like, but they must come after the initial if statement and before the optional else block.\n"
      ],
      "metadata": {
        "id": "YNXKfE4uM06p"
      },
      "execution_count": null,
      "outputs": []
    },
    {
      "cell_type": "code",
      "source": [
        "# # The else block is also optional and comes at the end of an if statement.\n",
        "# It is used to specify a block of code to be executed if all the conditions above it are false:\n",
        "\n",
        "if condition1:\n",
        "    # code to be executed if condition1 is true\n",
        "elif condition2:\n",
        "    # code to be executed if condition1 is false and condition2 is true\n",
        "else:\n",
        "    # code to be executed if condition1 and condition2 are both false\n"
      ],
      "metadata": {
        "id": "J0g6CBnTNC7l"
      },
      "execution_count": null,
      "outputs": []
    },
    {
      "cell_type": "code",
      "source": [
        "# # Here's an example of an if statement with an elif and an else block:\n",
        "\n",
        "x = 5\n",
        "y = 5\n",
        "\n",
        "if x > y:\n",
        "    print(\"x is greater than y\")\n",
        "elif x < y:\n",
        "    print(\"x is less than y\")\n",
        "else:\n",
        "    print(\"x is equal to y\")\n",
        "\n"
      ],
      "metadata": {
        "colab": {
          "base_uri": "https://localhost:8080/"
        },
        "id": "m41L__9jNQVh",
        "outputId": "671c36bb-7f0a-4811-dc41-5bcc91e18996"
      },
      "execution_count": 10,
      "outputs": [
        {
          "output_type": "stream",
          "name": "stdout",
          "text": [
            "x is equal to y\n"
          ]
        }
      ]
    },
    {
      "cell_type": "code",
      "source": [
        "temperature = 50\n",
        "\n",
        "if temperature > 40:\n",
        "    print(\"It's hot outside!\")\n",
        "elif temperature > 30:\n",
        "    print(\"It's warm outside.\")\n",
        "else:\n",
        "    print(\"It's cool outside.\")\n",
        "\n"
      ],
      "metadata": {
        "colab": {
          "base_uri": "https://localhost:8080/"
        },
        "id": "GDYVI0CANbf9",
        "outputId": "bad0a49d-7b0a-41b4-9e6e-da7e0b6c3e04"
      },
      "execution_count": 13,
      "outputs": [
        {
          "output_type": "stream",
          "name": "stdout",
          "text": [
            "It's warm outside.\n"
          ]
        }
      ]
    },
    {
      "cell_type": "code",
      "source": [
        "# It's important to note that the elif and else blocks are optional.\n",
        "# You can use just an if statement if you only need to check for one condition, like this:\n",
        "\n",
        "temperature = 25\n",
        "\n",
        "if temperature > 40:\n",
        "    print(\"It's hot outside!\")\n"
      ],
      "metadata": {
        "colab": {
          "base_uri": "https://localhost:8080/"
        },
        "id": "CfJDj3uLNoB4",
        "outputId": "c1587af1-a214-4a0f-8074-423d664016da"
      },
      "execution_count": 15,
      "outputs": [
        {
          "output_type": "stream",
          "name": "stdout",
          "text": [
            "It's hot outside!\n"
          ]
        }
      ]
    },
    {
      "cell_type": "code",
      "source": [
        "# # # In Python, indentation is used to indicate which lines of code belong to the same block.\n",
        "# # Blocks of code are used to group related statements and define the scope of variables.\n",
        "\n",
        "# # # Indentation is done using whitespace characters, usually spaces or tabs.\n",
        "# The number of whitespace characters used for indentation is not important, as long as it is consistent within a block of code.\n",
        "# # # It is common to use four spaces for each level of indentation.\n",
        "\n",
        "x = 10\n",
        "y = 5\n",
        "\n",
        "if x > y:\n",
        "    print(\"x is greater than y\")\n",
        "    print(\"This line is also part of the code block\")\n",
        "\n",
        "\n"
      ],
      "metadata": {
        "colab": {
          "base_uri": "https://localhost:8080/"
        },
        "id": "KCNiARXXOYzs",
        "outputId": "9041dbf1-ab51-4745-f1b3-3e9558a457d1"
      },
      "execution_count": 20,
      "outputs": [
        {
          "output_type": "stream",
          "name": "stdout",
          "text": [
            "This line is also part of the code block\n"
          ]
        }
      ]
    }
  ]
}