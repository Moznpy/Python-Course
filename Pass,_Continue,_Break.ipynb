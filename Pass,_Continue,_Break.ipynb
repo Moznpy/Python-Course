{
  "nbformat": 4,
  "nbformat_minor": 0,
  "metadata": {
    "colab": {
      "provenance": [],
      "authorship_tag": "ABX9TyOZqDAxZYTnA0AFGKFPTekQ",
      "include_colab_link": true
    },
    "kernelspec": {
      "name": "python3",
      "display_name": "Python 3"
    },
    "language_info": {
      "name": "python"
    }
  },
  "cells": [
    {
      "cell_type": "markdown",
      "metadata": {
        "id": "view-in-github",
        "colab_type": "text"
      },
      "source": [
        "<a href=\"https://colab.research.google.com/github/Moznpy/Python-Course/blob/main/Pass%2C_Continue%2C_Break.ipynb\" target=\"_parent\"><img src=\"https://colab.research.google.com/assets/colab-badge.svg\" alt=\"Open In Colab\"/></a>"
      ]
    },
    {
      "cell_type": "code",
      "execution_count": null,
      "metadata": {
        "id": "PwQqH2cdRg8f"
      },
      "outputs": [],
      "source": [
        "# In Python, pass, continue, and break are keywords that can be used inside loops (for loops and while loops) to control the flow of execution."
      ]
    },
    {
      "cell_type": "code",
      "source": [
        "# pass is a null statement that does nothing.\n",
        "# It is used as a placeholder in situations where a statement is required syntactically, but no action needs to be taken. For example:\n",
        "\n",
        "\n",
        "i = 0\n",
        "while i < 10:\n",
        "    i = i + 1\n",
        "    if i % 2 == 0:\n",
        "        pass\n",
        "    else:\n",
        "        print(i)\n"
      ],
      "metadata": {
        "colab": {
          "base_uri": "https://localhost:8080/"
        },
        "id": "u-VBs8nKRss5",
        "outputId": "4573d701-9f18-46d4-9298-fd78ec9ec512"
      },
      "execution_count": 45,
      "outputs": [
        {
          "output_type": "stream",
          "name": "stdout",
          "text": [
            "1\n",
            "3\n",
            "5\n",
            "7\n",
            "9\n"
          ]
        }
      ]
    },
    {
      "cell_type": "code",
      "source": [
        "# continue is used to skip the rest of the current iteration of a loop and move on to the next iteration. For example:\n",
        "\n",
        "name = \"John\"\n",
        "for letter in name:\n",
        "    if letter == \"h\":\n",
        "      continue\n",
        "\n",
        "    print(letter)\n",
        "  \n"
      ],
      "metadata": {
        "colab": {
          "base_uri": "https://localhost:8080/"
        },
        "id": "sxEMlPJ4S1Nz",
        "outputId": "d8a21da4-1635-45ac-ca8b-48a1943a3b05"
      },
      "execution_count": 46,
      "outputs": [
        {
          "output_type": "stream",
          "name": "stdout",
          "text": [
            "J\n",
            "o\n",
            "n\n"
          ]
        }
      ]
    },
    {
      "cell_type": "code",
      "source": [
        "# break is used to immediately exit a loop and move on to the next line of code after the loop. For example:\n",
        "\n",
        "i = 0\n",
        "while i < 10:\n",
        "    i = i + 1\n",
        "    if i == 5:\n",
        "        break\n",
        "    print(i)\n",
        "\n",
        "print(\"hello\")    \n"
      ],
      "metadata": {
        "colab": {
          "base_uri": "https://localhost:8080/"
        },
        "id": "nD8ymxpxS-k9",
        "outputId": "1608ec29-4dfe-4592-b426-cfc2242656f1"
      },
      "execution_count": 48,
      "outputs": [
        {
          "output_type": "stream",
          "name": "stdout",
          "text": [
            "1\n",
            "2\n",
            "3\n",
            "4\n",
            "hello\n"
          ]
        }
      ]
    },
    {
      "cell_type": "code",
      "source": [],
      "metadata": {
        "id": "xEwT0lXhRsvm"
      },
      "execution_count": null,
      "outputs": []
    }
  ]
}