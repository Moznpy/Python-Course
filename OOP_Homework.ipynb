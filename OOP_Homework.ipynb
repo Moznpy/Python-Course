{
  "nbformat": 4,
  "nbformat_minor": 0,
  "metadata": {
    "colab": {
      "provenance": [],
      "authorship_tag": "ABX9TyO01YkmOhKxU//jAeHQLFA4",
      "include_colab_link": true
    },
    "kernelspec": {
      "name": "python3",
      "display_name": "Python 3"
    },
    "language_info": {
      "name": "python"
    }
  },
  "cells": [
    {
      "cell_type": "markdown",
      "metadata": {
        "id": "view-in-github",
        "colab_type": "text"
      },
      "source": [
        "<a href=\"https://colab.research.google.com/github/Moznpy/Python-Course/blob/main/OOP_Homework.ipynb\" target=\"_parent\"><img src=\"https://colab.research.google.com/assets/colab-badge.svg\" alt=\"Open In Colab\"/></a>"
      ]
    },
    {
      "cell_type": "code",
      "execution_count": null,
      "metadata": {
        "id": "loqJqOYSnlbz"
      },
      "outputs": [],
      "source": [
        "# Create a class called \"Person\" that has two attributes: \"name\" and \"age\". Also, add a method called \"display_info\" that prints out the name and age of the person.\n",
        "\n"
      ]
    },
    {
      "cell_type": "code",
      "source": [
        "# Create a class called \"Student\" that inherits from the Person class. \n",
        "# Add an attribute called \"student_id\" and a method called \"display_student_info\" that prints out the student's name, age, and student ID.\n",
        "\n"
      ],
      "metadata": {
        "id": "ivvqFhWGo17o"
      },
      "execution_count": null,
      "outputs": []
    },
    {
      "cell_type": "code",
      "source": [
        "# Create a class called \"Teacher\" that also inherits from the Person class. \n",
        "# Add an attribute called \"teacher_id\" and a method called \"display_teacher_info\" that prints out the teacher's name, age, and teacher ID.\n",
        "\n"
      ],
      "metadata": {
        "id": "ShHBd4t9o1-l"
      },
      "execution_count": null,
      "outputs": []
    },
    {
      "cell_type": "code",
      "source": [
        "# Create an instance of the Student class and an instance of the Teacher class and call the display_info, \n",
        "# display_student_info, and display_teacher_info methods to make sure they work correctly.\n",
        "\n"
      ],
      "metadata": {
        "id": "sfkrUOrko2Az"
      },
      "execution_count": null,
      "outputs": []
    },
    {
      "cell_type": "code",
      "source": [
        "# Create a class called \"Course\" that has two attributes: \"name\" and \"code\". \n",
        "# Also, add a method called \"display_course_info\" that prints out the name and code of the course.\n",
        "\n"
      ],
      "metadata": {
        "id": "TNxshzwto2DO"
      },
      "execution_count": null,
      "outputs": []
    }
  ]
}