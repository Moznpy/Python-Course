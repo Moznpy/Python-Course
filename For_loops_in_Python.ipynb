{
  "nbformat": 4,
  "nbformat_minor": 0,
  "metadata": {
    "colab": {
      "provenance": [],
      "authorship_tag": "ABX9TyPiTn4rwma2nYSpFwR4YRNt",
      "include_colab_link": true
    },
    "kernelspec": {
      "name": "python3",
      "display_name": "Python 3"
    },
    "language_info": {
      "name": "python"
    }
  },
  "cells": [
    {
      "cell_type": "markdown",
      "metadata": {
        "id": "view-in-github",
        "colab_type": "text"
      },
      "source": [
        "<a href=\"https://colab.research.google.com/github/Moznpy/Python-Course/blob/main/For_loops_in_Python.ipynb\" target=\"_parent\"><img src=\"https://colab.research.google.com/assets/colab-badge.svg\" alt=\"Open In Colab\"/></a>"
      ]
    },
    {
      "cell_type": "code",
      "execution_count": 48,
      "metadata": {
        "colab": {
          "base_uri": "https://localhost:8080/"
        },
        "id": "YIIYphggWlpN",
        "outputId": "d0943248-e198-4119-b437-02c3e105a7de"
      },
      "outputs": [
        {
          "output_type": "stream",
          "name": "stdout",
          "text": [
            "1\n",
            "2\n",
            "3\n",
            "4\n",
            "5\n"
          ]
        }
      ],
      "source": [
        "# # In Python, a for loop allows you to iterate over a sequence of elements, such as a list or a string.\n",
        "# #  lets look at the below example and note The code inside the loop is executed once for each element in the sequence.\n",
        "\n",
        "numbers = [1, 2, 3, 4, 5]\n",
        "for num in numbers:\n",
        "    print(num)"
      ]
    },
    {
      "cell_type": "code",
      "source": [
        "numbers = [1, 2, 3, 4, 5]\n",
        "for example in numbers:\n",
        "    print(example)"
      ],
      "metadata": {
        "colab": {
          "base_uri": "https://localhost:8080/"
        },
        "id": "PVMKJ0nscFCN",
        "outputId": "72945b22-2d71-4a0c-f0be-b3e9344788ae"
      },
      "execution_count": 49,
      "outputs": [
        {
          "output_type": "stream",
          "name": "stdout",
          "text": [
            "1\n",
            "2\n",
            "3\n",
            "4\n",
            "5\n"
          ]
        }
      ]
    },
    {
      "cell_type": "code",
      "source": [
        "numbers = [1, 2, 3, 4, 5, 8]\n",
        "for num in numbers:\n",
        "    print('hello')"
      ],
      "metadata": {
        "colab": {
          "base_uri": "https://localhost:8080/"
        },
        "id": "oLcmkAvZcLIw",
        "outputId": "7b1b7d03-76ac-46ae-c4d0-d60d84a35269"
      },
      "execution_count": 51,
      "outputs": [
        {
          "output_type": "stream",
          "name": "stdout",
          "text": [
            "hello\n",
            "hello\n",
            "hello\n",
            "hello\n",
            "hello\n",
            "hello\n"
          ]
        }
      ]
    },
    {
      "cell_type": "code",
      "source": [
        "# example of using a for loop with an if statement:\n",
        "\n",
        "# Iterating over a list and printing only even numbers\n",
        "numbers = [1, 2, 3, 4, 5, 6, 7, 8, 9, 10, 767543]\n",
        "for num in numbers:\n",
        "    if num % 2 == 0:\n",
        "        print(num)\n",
        "    else:\n",
        "        print('odd number')\n"
      ],
      "metadata": {
        "colab": {
          "base_uri": "https://localhost:8080/"
        },
        "id": "i3tf-1cIdLAy",
        "outputId": "4f8d24e6-39a3-425b-cb6c-4c41683d0f63"
      },
      "execution_count": 54,
      "outputs": [
        {
          "output_type": "stream",
          "name": "stdout",
          "text": [
            "odd number\n",
            "2\n",
            "odd number\n",
            "4\n",
            "odd number\n",
            "6\n",
            "odd number\n",
            "8\n",
            "odd number\n",
            "10\n",
            "odd number\n"
          ]
        }
      ]
    },
    {
      "cell_type": "code",
      "source": [
        "# # Iterating over a string:\n",
        "\n",
        "# # Iterating over a string and printing each character\n",
        "string = \"Hello\"\n",
        "for _ in string:\n",
        "    print('nice')\n",
        "\n",
        "\n"
      ],
      "metadata": {
        "colab": {
          "base_uri": "https://localhost:8080/"
        },
        "id": "LEFYtDj5anKS",
        "outputId": "dc9b7ea1-6383-4ba3-f214-1c0d9b20758c"
      },
      "execution_count": 58,
      "outputs": [
        {
          "output_type": "stream",
          "name": "stdout",
          "text": [
            "nice\n",
            "nice\n",
            "nice\n",
            "nice\n",
            "nice\n"
          ]
        }
      ]
    },
    {
      "cell_type": "code",
      "source": [
        "# Iterating over a list:\n",
        "\n",
        "# Iterating over a list and printing each element\n",
        "my_list = [1, 2, 3, 4, 5]\n",
        "for element in my_list:\n",
        "    print(element)\n"
      ],
      "metadata": {
        "colab": {
          "base_uri": "https://localhost:8080/"
        },
        "id": "7pkLhLxga9t9",
        "outputId": "b83a5d0b-7768-49bb-8a5d-52a2a3618d32"
      },
      "execution_count": 59,
      "outputs": [
        {
          "output_type": "stream",
          "name": "stdout",
          "text": [
            "1\n",
            "2\n",
            "3\n",
            "4\n",
            "5\n"
          ]
        }
      ]
    },
    {
      "cell_type": "code",
      "source": [
        "# Iterating over a tuple:\n",
        "\n",
        "# Iterating over a tuple and printing each element\n",
        "my_tuple = (1, 2, 3, 4, 5)\n",
        "for element in my_tuple:\n",
        "    print(element)\n"
      ],
      "metadata": {
        "colab": {
          "base_uri": "https://localhost:8080/"
        },
        "id": "mAE4RS_mbGsq",
        "outputId": "5b93a585-7a9e-4092-cb65-b58b5a9015b3"
      },
      "execution_count": 60,
      "outputs": [
        {
          "output_type": "stream",
          "name": "stdout",
          "text": [
            "1\n",
            "2\n",
            "3\n",
            "4\n",
            "5\n"
          ]
        }
      ]
    },
    {
      "cell_type": "code",
      "source": [
        "# Iterating over a list of tuples and unpacking the values into separate variables:\n",
        "\n",
        "points = [(1, 2), (3, 4), (5, 6), (7, 8)]\n",
        "for item in points:\n",
        "  print (item)"
      ],
      "metadata": {
        "colab": {
          "base_uri": "https://localhost:8080/"
        },
        "id": "4majxjangGlA",
        "outputId": "d21afca9-6965-40bd-c2b7-a3f379b63c54"
      },
      "execution_count": 61,
      "outputs": [
        {
          "output_type": "stream",
          "name": "stdout",
          "text": [
            "(1, 2)\n",
            "(3, 4)\n",
            "(5, 6)\n",
            "(7, 8)\n"
          ]
        }
      ]
    },
    {
      "cell_type": "code",
      "source": [
        "points = [(1, 2), (3, 4), (5, 6), (7, 8)]\n",
        "for x,z in points:\n",
        "  print (z)\n",
        "\n"
      ],
      "metadata": {
        "colab": {
          "base_uri": "https://localhost:8080/"
        },
        "id": "L1b3p1mAiqsq",
        "outputId": "9656f33e-2b3a-49b0-ba75-8e5486ba0954"
      },
      "execution_count": 67,
      "outputs": [
        {
          "output_type": "stream",
          "name": "stdout",
          "text": [
            "2\n",
            "4\n",
            "6\n",
            "8\n"
          ]
        }
      ]
    },
    {
      "cell_type": "code",
      "source": [
        "# # Iterating over a dictionary:\n",
        "# By default, when you iterate over a dictionary using a for loop, you are only looping over the keys of the dictionary. \n",
        "# Here is an example:\n",
        "\n",
        "# Iterating over a dictionary and printing each key\n",
        "my_dict = {'a': 1, 'b': 2, 'c': 3}\n",
        "for key in my_dict:\n",
        "    print(key)\n",
        "\n",
        "\n"
      ],
      "metadata": {
        "colab": {
          "base_uri": "https://localhost:8080/"
        },
        "id": "Tyol-CaYbMJb",
        "outputId": "b17923e1-6411-46c6-b0b6-e42689fd3cb0"
      },
      "execution_count": 69,
      "outputs": [
        {
          "output_type": "stream",
          "name": "stdout",
          "text": [
            "a\n",
            "b\n",
            "c\n"
          ]
        }
      ]
    },
    {
      "cell_type": "code",
      "source": [
        "# If you want to access both the keys and values of a dictionary while iterating, you can use the items() method of the dictionary.\n",
        "# Here is an example:\n",
        "\n",
        "# Iterating over a dictionary and printing each key and value\n",
        "my_dict = {'a': 1, 'b': 2, 'c': 3}\n",
        "for key, value in my_dict.items():\n",
        "    print(key)\n",
        "\n"
      ],
      "metadata": {
        "colab": {
          "base_uri": "https://localhost:8080/"
        },
        "id": "c2EfEuEJbVVw",
        "outputId": "9e1fe09c-abea-427b-ea91-6595b86553f8"
      },
      "execution_count": 75,
      "outputs": [
        {
          "output_type": "stream",
          "name": "stdout",
          "text": [
            "a\n",
            "b\n",
            "c\n"
          ]
        }
      ]
    }
  ]
}