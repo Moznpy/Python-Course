{
  "nbformat": 4,
  "nbformat_minor": 0,
  "metadata": {
    "colab": {
      "provenance": [],
      "authorship_tag": "ABX9TyPK2i+RZ5K+n336FvyUKKT9",
      "include_colab_link": true
    },
    "kernelspec": {
      "name": "python3",
      "display_name": "Python 3"
    },
    "language_info": {
      "name": "python"
    }
  },
  "cells": [
    {
      "cell_type": "markdown",
      "metadata": {
        "id": "view-in-github",
        "colab_type": "text"
      },
      "source": [
        "<a href=\"https://colab.research.google.com/github/Moznpy/Python-Course/blob/main/Functions_with_some_logic.ipynb\" target=\"_parent\"><img src=\"https://colab.research.google.com/assets/colab-badge.svg\" alt=\"Open In Colab\"/></a>"
      ]
    },
    {
      "cell_type": "code",
      "execution_count": null,
      "metadata": {
        "id": "0GcboH6SM34Q"
      },
      "outputs": [],
      "source": [
        "# Example 1: Write a function that checks if a number is even or odd. \n",
        "\n",
        "def even_or_odd(num):\n",
        "    if num % 2 == 0:\n",
        "        return \"Even\"\n",
        "    else:\n",
        "        return \"Odd\"\n",
        "        \n",
        "\n",
        "\n",
        "\n",
        "\n",
        "# In this example, we have defined a function called even_or_odd that takes a single parameter num. \n",
        "# Inside the function, we use an if statement to check if num is even or odd. If num is even, the function returns the string \"Even\". \n",
        "# If num is odd, the function returns the string \"Odd\".\n",
        "\n",
        "# We can then call the even_or_odd function with different arguments and see the output."
      ]
    },
    {
      "cell_type": "code",
      "source": [
        "# Example 2: Write a function that takes a list as an argument and returns a new list containing only the even elements of the input list:\n",
        "\n",
        "def even_list(input_list):\n",
        "    even_list = []\n",
        "    for num in input_list:\n",
        "        if num % 2 == 0:\n",
        "            even_list.append(num)\n",
        "    return even_list\n",
        "\n",
        "even_list([1, 2, 3, 4, 5, 6])\n",
        "\n",
        "\n",
        "# In this example, we have defined a function called even_elements that takes a single parameter input_list. \n",
        "# Inside the function, we have an empty list called even_list that will be used to store the even elements of input_list.\n",
        "\n",
        "# We then use a for loop to iterate over the elements of input_list. \n",
        "# For each element, we check if it is even or odd using the modulo operator (%). If the element is even, we append it to even_list.\n",
        "\n",
        "# Finally, we return the even_list at the end of the function.\n",
        "\n",
        "# We can then call the even_elements function with a list of integers as an argument and it will return a new list containing only the even elements of the input list."
      ],
      "metadata": {
        "id": "DJCB2tG1kTML"
      },
      "execution_count": null,
      "outputs": []
    },
    {
      "cell_type": "code",
      "source": [
        "# Here is an example of a function in Python that takes a single argument, a list of integers, \n",
        "# and returns a new list containing only the numbers that are multiples of 3.\n",
        "\n",
        "def get_multiples_of_3(numbers):\n",
        "  # Create an empty list to store the multiples of 3\n",
        "  multiples_of_3 = []\n",
        "  \n",
        "  # Iterate through the numbers in the list\n",
        "  for number in numbers:\n",
        "    # Check if the current number is a multiple of 3\n",
        "    if number % 3 == 0:\n",
        "      # If it is a multiple of 3, append it to the list\n",
        "      multiples_of_3.append(number)\n",
        "  \n",
        "  # Return the list of multiples of 3\n",
        "  return multiples_of_3\n",
        "\n",
        "\n",
        "# Example usage\n"
      ],
      "metadata": {
        "colab": {
          "base_uri": "https://localhost:8080/"
        },
        "id": "AJSMuJlHnSMF",
        "outputId": "0369bd8f-d005-44d3-e455-cd1c44cb176e"
      },
      "execution_count": null,
      "outputs": [
        {
          "output_type": "execute_result",
          "data": {
            "text/plain": [
              "[9, 45, 678]"
            ]
          },
          "metadata": {},
          "execution_count": 39
        }
      ]
    }
  ]
}