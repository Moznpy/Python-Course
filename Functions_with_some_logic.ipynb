{
  "nbformat": 4,
  "nbformat_minor": 0,
  "metadata": {
    "colab": {
      "provenance": [],
      "authorship_tag": "ABX9TyOmlBrbP+U6kQfB9cnCg/zB",
      "include_colab_link": true
    },
    "kernelspec": {
      "name": "python3",
      "display_name": "Python 3"
    },
    "language_info": {
      "name": "python"
    }
  },
  "cells": [
    {
      "cell_type": "markdown",
      "metadata": {
        "id": "view-in-github",
        "colab_type": "text"
      },
      "source": [
        "<a href=\"https://colab.research.google.com/github/Moznpy/Python-Course/blob/main/Functions_with_some_logic.ipynb\" target=\"_parent\"><img src=\"https://colab.research.google.com/assets/colab-badge.svg\" alt=\"Open In Colab\"/></a>"
      ]
    },
    {
      "cell_type": "code",
      "source": [
        "24 % 2 == 0 \n"
      ],
      "metadata": {
        "colab": {
          "base_uri": "https://localhost:8080/"
        },
        "id": "4LCyEBP7yiTY",
        "outputId": "8f0a4555-7df1-4839-fe98-87c9dcf89fe5"
      },
      "execution_count": 6,
      "outputs": [
        {
          "output_type": "execute_result",
          "data": {
            "text/plain": [
              "True"
            ]
          },
          "metadata": {},
          "execution_count": 6
        }
      ]
    },
    {
      "cell_type": "code",
      "execution_count": 8,
      "metadata": {
        "id": "0GcboH6SM34Q",
        "colab": {
          "base_uri": "https://localhost:8080/",
          "height": 36
        },
        "outputId": "ca91c341-694d-411f-cb86-2ac248a546b0"
      },
      "outputs": [
        {
          "output_type": "execute_result",
          "data": {
            "text/plain": [
              "'Odd'"
            ],
            "application/vnd.google.colaboratory.intrinsic+json": {
              "type": "string"
            }
          },
          "metadata": {},
          "execution_count": 8
        }
      ],
      "source": [
        "# Example 1: Write a function that checks if a number is even or odd. \n",
        "\n",
        "\n",
        "def even_or_odd(num):\n",
        "    if num % 2 == 0:\n",
        "        return \"Even\"\n",
        "    else:\n",
        "        return \"Odd\"\n",
        "\n",
        "\n",
        "even_or_odd(13)       \n",
        "\n",
        "\n",
        "\n",
        "\n",
        "# In this example, we have defined a function called even_or_odd that takes a single parameter num. \n",
        "# Inside the function, we use an if statement to check if num is even or odd. If num is even, the function returns the string \"Even\". \n",
        "# If num is odd, the function returns the string \"Odd\".\n",
        "\n",
        "# We can then call the even_or_odd function with different arguments and see the output."
      ]
    },
    {
      "cell_type": "code",
      "source": [
        "# Example 2: Write a function that takes a list as an argument and returns a new list containing only the even elements of the input list:\n",
        "\n",
        "def even_list(input_list):\n",
        "    even_list = []\n",
        "    for num in input_list:\n",
        "        if num % 2 == 0:\n",
        "            even_list.append(num)\n",
        "    return even_list\n",
        "\n",
        "even_list([1, 2, 3, 4, 5, 6])\n",
        "\n",
        "\n",
        "# In this example, we have defined a function called even_list that takes a single parameter input_list. \n",
        "# Inside the function, we have an empty list called even_list that will be used to store the even elements of input_list.\n",
        "\n",
        "# We then use a for loop to iterate over the elements of input_list. \n",
        "# For each element, we check if it is even or odd using the modulo operator (%). If the element is even, we append it to even_list.\n",
        "\n",
        "# Finally, we return the even_list at the end of the function.\n",
        "\n",
        "# We can then call the list function with a list of integers as an argument and it will return a new list containing only the even elements of the input list."
      ],
      "metadata": {
        "id": "DJCB2tG1kTML",
        "colab": {
          "base_uri": "https://localhost:8080/"
        },
        "outputId": "289f80b8-2505-4d4b-e05d-875193db9e64"
      },
      "execution_count": 18,
      "outputs": [
        {
          "output_type": "execute_result",
          "data": {
            "text/plain": [
              "[2, 4, 6]"
            ]
          },
          "metadata": {},
          "execution_count": 18
        }
      ]
    },
    {
      "cell_type": "code",
      "source": [
        "\n",
        "\n",
        "\n",
        "# Here is an example of a function in Python that takes a single argument, a list of integers, \n",
        "# and returns a new list containing only the numbers that are multiples of 3.\n",
        "\n",
        "def get_multiples_of_3(numbers):\n",
        "  # Create an empty list to store the multiples of 3\n",
        "  multiples_of_3 = []\n",
        "  \n",
        "  # Iterate through the numbers in the list\n",
        "  for number in numbers:\n",
        "    # Check if the current number is a multiple of 3\n",
        "    if number % 3 == 0:\n",
        "      # If it is a multiple of 3, append it to the list\n",
        "      multiples_of_3.append(number)\n",
        "  \n",
        "  # Return the list of multiples of 3\n",
        "  return multiples_of_3\n",
        "\n",
        "\n",
        "# Example usage\n",
        "\n",
        "\n",
        "get_multiples_of_3([])\n"
      ],
      "metadata": {
        "colab": {
          "base_uri": "https://localhost:8080/"
        },
        "id": "AJSMuJlHnSMF",
        "outputId": "d76287d2-cf35-411e-c3e8-2ae5a6aa39e3"
      },
      "execution_count": 28,
      "outputs": [
        {
          "output_type": "execute_result",
          "data": {
            "text/plain": [
              "[]"
            ]
          },
          "metadata": {},
          "execution_count": 28
        }
      ]
    }
  ]
}