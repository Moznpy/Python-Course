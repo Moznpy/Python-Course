{
  "nbformat": 4,
  "nbformat_minor": 0,
  "metadata": {
    "colab": {
      "provenance": [],
      "authorship_tag": "ABX9TyMdDMepDuvHiVhs5YoMv4qm",
      "include_colab_link": true
    },
    "kernelspec": {
      "name": "python3",
      "display_name": "Python 3"
    },
    "language_info": {
      "name": "python"
    }
  },
  "cells": [
    {
      "cell_type": "markdown",
      "metadata": {
        "id": "view-in-github",
        "colab_type": "text"
      },
      "source": [
        "<a href=\"https://colab.research.google.com/github/Moznpy/Python-Course/blob/main/OOP_Homework_Solutions.ipynb\" target=\"_parent\"><img src=\"https://colab.research.google.com/assets/colab-badge.svg\" alt=\"Open In Colab\"/></a>"
      ]
    },
    {
      "cell_type": "code",
      "execution_count": 11,
      "metadata": {
        "colab": {
          "base_uri": "https://localhost:8080/"
        },
        "id": "hgdPa1X6ptHI",
        "outputId": "3cb6f907-2d49-4e2b-e883-cde4531c677c"
      },
      "outputs": [
        {
          "output_type": "stream",
          "name": "stdout",
          "text": [
            "Name: John, Age: 30\n"
          ]
        }
      ],
      "source": [
        "# Create a class called \"Person\" that has two attributes: \"name\" and \"age\". Also, add a method called \"display_info\" that prints out the name and age of the person.\n",
        "class Person():\n",
        "    def __init__(self, name, age):\n",
        "        self.name = name\n",
        "        self.age = age\n",
        "\n",
        "    def display_info(self):\n",
        "        print(f\"Name: {self.name}, Age: {self.age}\")\n",
        "\n",
        "person1 = Person(\"John\", 30)\n",
        "person1.display_info()\n"
      ]
    },
    {
      "cell_type": "code",
      "source": [
        "# Create a class called \"Student\" that inherits from the Person class. \n",
        "# Add an attribute called \"student_id\" and a method called \"display_student_info\" that prints out the student's name, age, and student ID.\n",
        "\n",
        "class Student(Person):\n",
        "    def __init__(self, name, age, student_id):\n",
        "        super().__init__(name, age)\n",
        "        self.student_id = student_id\n",
        "\n",
        "    def display_student_info(self):\n",
        "        print(f\"Name: {self.name}, Age: {self.age}, Student ID: {self.student_id}\")\n",
        "\n",
        "student1 = Student(\"Mary\", 20, \"123456\")\n",
        "student1.display_student_info()\n",
        "student1.display_info()\n"
      ],
      "metadata": {
        "colab": {
          "base_uri": "https://localhost:8080/"
        },
        "id": "o-79jQ_pp5bE",
        "outputId": "856d1f3d-2d78-4638-d84c-c7cd06420ae7"
      },
      "execution_count": 13,
      "outputs": [
        {
          "output_type": "stream",
          "name": "stdout",
          "text": [
            "Name: Mary, Age: 20, Student ID: 123456\n",
            "Name: Mary, Age: 20\n"
          ]
        }
      ]
    },
    {
      "cell_type": "code",
      "source": [
        "# Create a class called \"Teacher\" that also inherits from the Person class. \n",
        "# Add an attribute called \"teacher_id\" and a method called \"display_teacher_info\" that prints out the teacher's name, age, and teacher ID.\n",
        "\n",
        "class Teacher(Person):\n",
        "    def __init__(self, name, age, teacher_id):\n",
        "        super().__init__(name, age)\n",
        "        self.teacher_id = teacher_id\n",
        "\n",
        "    def display_teacher_info(self):\n",
        "        print(f\"Name: {self.name}, Age: {self.age}, Teacher ID: {self.teacher_id}\")\n",
        "\n",
        "teacher1 = Teacher(\"Mike\", 40, \"T123456\")\n",
        "teacher1.display_teacher_info()\n",
        "teacher1.display_info()\n"
      ],
      "metadata": {
        "colab": {
          "base_uri": "https://localhost:8080/"
        },
        "id": "DXdzAFL7p5db",
        "outputId": "e27b8012-b49d-4fe1-8e78-750af40c7872"
      },
      "execution_count": 15,
      "outputs": [
        {
          "output_type": "stream",
          "name": "stdout",
          "text": [
            "Name: Mike, Age: 40, Teacher ID: T123456\n",
            "Name: Mike, Age: 40\n"
          ]
        }
      ]
    },
    {
      "cell_type": "code",
      "source": [
        "# Create an instance of the Student class and an instance of the Teacher class and call the display_info, \n",
        "# display_student_info, and display_teacher_info methods to make sure they work correctly.\n",
        "\n",
        "student = Student(\"Mary\", 20, \"123456\")\n",
        "student.display_info()\n",
        "\n",
        "\n",
        "student.display_student_info()\n",
        "\n",
        "teacher = Teacher(\"Mike\", 40, \"T123456\")\n",
        "teacher.display_info()\n",
        "\n",
        "teacher.display_teacher_info()\n"
      ],
      "metadata": {
        "colab": {
          "base_uri": "https://localhost:8080/"
        },
        "id": "ijxoXEIOp5fr",
        "outputId": "60c0d53e-0333-4fa8-bc66-8002f603f9c4"
      },
      "execution_count": 16,
      "outputs": [
        {
          "output_type": "stream",
          "name": "stdout",
          "text": [
            "Name: Mary, Age: 20\n",
            "Name: Mary, Age: 20, Student ID: 123456\n",
            "Name: Mike, Age: 40\n",
            "Name: Mike, Age: 40, Teacher ID: T123456\n"
          ]
        }
      ]
    },
    {
      "cell_type": "code",
      "source": [
        "# Create a class called \"Course\" that has two attributes: \"name\" and \"code\". \n",
        "# Also, add a method called \"display_course_info\" that prints out the name and code of the course.\n",
        "\n",
        "# Solution\n",
        "class Course:\n",
        "    def __init__(self, name, code):\n",
        "        self.name = name\n",
        "        self.code = code\n",
        "    def display_course_info(self):\n",
        "        print(f\"Name: {self.name}, Code: {self.code}\")\n",
        "\n",
        "\n",
        "\n",
        "course = Course(\"Introduction to OOP\", \"CSC101\")\n",
        "course.display_course_info()\n",
        "\n",
        "\n"
      ],
      "metadata": {
        "colab": {
          "base_uri": "https://localhost:8080/"
        },
        "id": "gzaTJhd_p5iN",
        "outputId": "a889fc2a-6790-4359-d4c5-17fb7682b11e"
      },
      "execution_count": 18,
      "outputs": [
        {
          "output_type": "stream",
          "name": "stdout",
          "text": [
            "Name: Introduction to OOP, Code: CSC101\n"
          ]
        }
      ]
    }
  ]
}