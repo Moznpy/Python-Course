{
  "nbformat": 4,
  "nbformat_minor": 0,
  "metadata": {
    "colab": {
      "provenance": [],
      "authorship_tag": "ABX9TyM89z2+U+fR0m6+NYU7ufN/",
      "include_colab_link": true
    },
    "kernelspec": {
      "name": "python3",
      "display_name": "Python 3"
    },
    "language_info": {
      "name": "python"
    }
  },
  "cells": [
    {
      "cell_type": "markdown",
      "metadata": {
        "id": "view-in-github",
        "colab_type": "text"
      },
      "source": [
        "<a href=\"https://colab.research.google.com/github/Moznpy/Python-Course/blob/main/While_loops_in_python.ipynb\" target=\"_parent\"><img src=\"https://colab.research.google.com/assets/colab-badge.svg\" alt=\"Open In Colab\"/></a>"
      ]
    },
    {
      "cell_type": "code",
      "execution_count": 1,
      "metadata": {
        "id": "duVRwjgmL6Uv"
      },
      "outputs": [],
      "source": [
        "# In Python, a while loop is a control flow statement that allows you to repeat a block of code as long as a given condition is true.\n",
        "# The syntax for a while loop is as follows:"
      ]
    },
    {
      "cell_type": "code",
      "source": [
        "while condition:\n",
        "    # code to be executed\n"
      ],
      "metadata": {
        "id": "kPPzH9mMMU6E"
      },
      "execution_count": null,
      "outputs": []
    },
    {
      "cell_type": "code",
      "source": [
        "# The code in the while loop will be executed repeatedly as long as the condition is true. Once the condition becomes false, the loop will stop executing.\n",
        "\n",
        "# Here is an example of a while loop that counts down from 10 and stops when the count reaches zero:\n",
        "\n",
        "y = 10\n",
        "while y > 0:\n",
        "    print(y)\n",
        "    y = y - 1\n",
        "\n",
        "\n"
      ],
      "metadata": {
        "colab": {
          "base_uri": "https://localhost:8080/"
        },
        "id": "eIRJfUbyMaUA",
        "outputId": "a22f65be-abeb-4c9a-c158-000667088e9c"
      },
      "execution_count": 29,
      "outputs": [
        {
          "output_type": "stream",
          "name": "stdout",
          "text": [
            "10\n",
            "9\n",
            "8\n",
            "7\n",
            "6\n",
            "5\n",
            "4\n",
            "3\n",
            "2\n",
            "1\n"
          ]
        }
      ]
    },
    {
      "cell_type": "code",
      "source": [
        "y = 10\n",
        "while y > 0:\n",
        "    print(f\" The current value of y is {y}\")\n",
        "    y = y - 1\n",
        "\n",
        "else:\n",
        "  print(\"y is not greater than 0\")\n"
      ],
      "metadata": {
        "colab": {
          "base_uri": "https://localhost:8080/"
        },
        "id": "GotdMtR2NPDW",
        "outputId": "96fd13e9-38f3-450c-a0db-9e6d4590483a"
      },
      "execution_count": 31,
      "outputs": [
        {
          "output_type": "stream",
          "name": "stdout",
          "text": [
            " The current value of y is 10\n",
            " The current value of y is 9\n",
            " The current value of y is 8\n",
            " The current value of y is 7\n",
            " The current value of y is 6\n",
            " The current value of y is 5\n",
            " The current value of y is 4\n",
            " The current value of y is 3\n",
            " The current value of y is 2\n",
            " The current value of y is 1\n",
            "y is not greater than 0\n"
          ]
        }
      ]
    },
    {
      "cell_type": "code",
      "source": [
        "# Another example:\n",
        "\n",
        "i = 0\n",
        "while i < 10:\n",
        "    print(i)\n",
        "    i = i + 1\n"
      ],
      "metadata": {
        "colab": {
          "base_uri": "https://localhost:8080/"
        },
        "id": "G-Gp-AsgOcSe",
        "outputId": "40b82a4b-26c3-4770-c311-bbd28befe0de"
      },
      "execution_count": 32,
      "outputs": [
        {
          "output_type": "stream",
          "name": "stdout",
          "text": [
            "0\n",
            "1\n",
            "2\n",
            "3\n",
            "4\n",
            "5\n",
            "6\n",
            "7\n",
            "8\n",
            "9\n"
          ]
        }
      ]
    }
  ]
}