{
  "nbformat": 4,
  "nbformat_minor": 0,
  "metadata": {
    "colab": {
      "provenance": [],
      "authorship_tag": "ABX9TyMxh4Kghdg6o+TwEhra4gYw",
      "include_colab_link": true
    },
    "kernelspec": {
      "name": "python3",
      "display_name": "Python 3"
    },
    "language_info": {
      "name": "python"
    }
  },
  "cells": [
    {
      "cell_type": "markdown",
      "metadata": {
        "id": "view-in-github",
        "colab_type": "text"
      },
      "source": [
        "<a href=\"https://colab.research.google.com/github/Moznpy/Python-Course/blob/main/Unpacking_tuples_with_functions.ipynb\" target=\"_parent\"><img src=\"https://colab.research.google.com/assets/colab-badge.svg\" alt=\"Open In Colab\"/></a>"
      ]
    },
    {
      "cell_type": "code",
      "source": [
        "students = [(\"Alice\", 90), (\"Bob\", 60), (\"Charlie\", 75), (\"Dave\", 85), (\"Eve\", 95)]\n",
        "\n",
        "\n",
        "for name, grade in students:\n",
        "  print(name, grade)\n",
        "\n",
        "\n",
        "\n"
      ],
      "metadata": {
        "id": "8y9DzbOYuUXn",
        "colab": {
          "base_uri": "https://localhost:8080/"
        },
        "outputId": "67c561c0-202b-4218-be9b-bcf47a348126"
      },
      "execution_count": 23,
      "outputs": [
        {
          "output_type": "stream",
          "name": "stdout",
          "text": [
            "Alice 90\n",
            "Bob 60\n",
            "Charlie 75\n",
            "Dave 85\n",
            "Eve 95\n"
          ]
        }
      ]
    },
    {
      "cell_type": "code",
      "source": [],
      "metadata": {
        "id": "FTW4IQFW5aOr"
      },
      "execution_count": null,
      "outputs": []
    },
    {
      "cell_type": "code",
      "source": [],
      "metadata": {
        "id": "jUHnCuol5aR_"
      },
      "execution_count": null,
      "outputs": []
    },
    {
      "cell_type": "code",
      "source": [],
      "metadata": {
        "id": "_6qTvVrL5bUg"
      },
      "execution_count": null,
      "outputs": []
    },
    {
      "cell_type": "code",
      "execution_count": 32,
      "metadata": {
        "id": "OOfGT01xnpro",
        "colab": {
          "base_uri": "https://localhost:8080/",
          "height": 36
        },
        "outputId": "0c07c59e-5168-42a4-a0ce-ba2f9355f4be"
      },
      "outputs": [
        {
          "output_type": "execute_result",
          "data": {
            "text/plain": [
              "'Eve'"
            ],
            "application/vnd.google.colaboratory.intrinsic+json": {
              "type": "string"
            }
          },
          "metadata": {},
          "execution_count": 32
        }
      ],
      "source": [
        "students = [(\"Alice\", 90), (\"Bob\", 60), (\"Charlie\", 75), (\"Dave\", 85), (\"Eve\", 95)]\n",
        "\n",
        "\n",
        "def best_student(students):\n",
        "  best_student = None \n",
        "  highest_average = 0\n",
        "  for student, average in students:\n",
        "    if average > highest_average:\n",
        "      highest_average = average\n",
        "      best_student = student\n",
        "  return best_student\n",
        "\n",
        "\n",
        "\n",
        "best_student(students)\n",
        "\n",
        "\n",
        "\n"
      ]
    },
    {
      "cell_type": "code",
      "source": [],
      "metadata": {
        "id": "DZRn5CVI7WdB"
      },
      "execution_count": null,
      "outputs": []
    }
  ]
}