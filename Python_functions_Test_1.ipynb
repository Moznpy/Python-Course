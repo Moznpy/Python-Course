{
  "nbformat": 4,
  "nbformat_minor": 0,
  "metadata": {
    "colab": {
      "provenance": [],
      "authorship_tag": "ABX9TyPB46SW8wqUkF/b/5CAAwtR",
      "include_colab_link": true
    },
    "kernelspec": {
      "name": "python3",
      "display_name": "Python 3"
    },
    "language_info": {
      "name": "python"
    }
  },
  "cells": [
    {
      "cell_type": "markdown",
      "metadata": {
        "id": "view-in-github",
        "colab_type": "text"
      },
      "source": [
        "<a href=\"https://colab.research.google.com/github/Moznpy/Python-Course/blob/main/Python_functions_Test_1.ipynb\" target=\"_parent\"><img src=\"https://colab.research.google.com/assets/colab-badge.svg\" alt=\"Open In Colab\"/></a>"
      ]
    },
    {
      "cell_type": "code",
      "source": [
        "# Write a function that takes in two numbers as arguments and returns their sum. \n",
        "# What is the output of the function when you call it with the numbers 3 and 4?"
      ],
      "metadata": {
        "id": "F4TKrDayb63f"
      },
      "execution_count": null,
      "outputs": []
    },
    {
      "cell_type": "code",
      "source": [
        "# Write a function that takes in a list of numbers and returns the average of the numbers. \n",
        "# What is the output of the function when you call it with the list [1, 2, 3, 4, 5]?"
      ],
      "metadata": {
        "id": "zmt6nHQOb66V"
      },
      "execution_count": null,
      "outputs": []
    },
    {
      "cell_type": "code",
      "source": [
        "# Write a function that takes in a string and returns a copy of the string with all vowels removed. \n",
        "# What is the output of the function when you call it with the string \"Hello, World!\"?"
      ],
      "metadata": {
        "id": "QrkgK3yEb681"
      },
      "execution_count": null,
      "outputs": []
    },
    {
      "cell_type": "code",
      "source": [
        "# Write a function that takes in a dictionary and returns a list of all the values in the dictionary. \n",
        "# What is the output of the function when you call it with the dictionary {'a': 1, 'b': 2, 'c': 3}?\n"
      ],
      "metadata": {
        "id": "Z4cABv86b6_1"
      },
      "execution_count": null,
      "outputs": []
    },
    {
      "cell_type": "code",
      "source": [
        "# Write a function that takes in a number and returns True if the number is even, and False if the number is odd. \n",
        "# What is the output of the function when you call it with the number 7?\n"
      ],
      "metadata": {
        "id": "EjWw-DgUb7B0"
      },
      "execution_count": null,
      "outputs": []
    },
    {
      "cell_type": "code",
      "source": [
        "# Write a function that takes in a list of strings and returns a new list with all the strings in upper case. \n",
        "# What is the output of the function when you call it with the list ['a', 'b', 'c']?\n"
      ],
      "metadata": {
        "id": "Bdys0P_ob7F2"
      },
      "execution_count": null,
      "outputs": []
    },
    {
      "cell_type": "code",
      "source": [
        "# Write a function that takes in a string and returns the string with all its letters in reverse order.\n",
        "#  What is the output of the function when you call it with the string \"python\"?"
      ],
      "metadata": {
        "id": "MH_RtaH2b07x"
      },
      "execution_count": 3,
      "outputs": []
    }
  ]
}