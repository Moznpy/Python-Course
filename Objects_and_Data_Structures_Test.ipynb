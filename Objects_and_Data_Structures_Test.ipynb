{
  "cells": [
    {
      "cell_type": "markdown",
      "metadata": {
        "id": "view-in-github",
        "colab_type": "text"
      },
      "source": [
        "<a href=\"https://colab.research.google.com/github/Moznpy/Python-Course/blob/main/Objects_and_Data_Structures_Test.ipynb\" target=\"_parent\"><img src=\"https://colab.research.google.com/assets/colab-badge.svg\" alt=\"Open In Colab\"/></a>"
      ]
    },
    {
      "cell_type": "code",
      "execution_count": null,
      "metadata": {
        "id": "0SG2hrto4amx"
      },
      "outputs": [],
      "source": [
        "# What is a list in Python?\n",
        "\n",
        "# A) an ordered collection of objects that can be of different types\n",
        "# B) an unordered collection of objects that can only be of the same type\n",
        "# C) a dictionary with integer keys and values of any type\n",
        "# D) a set of values of any type"
      ]
    },
    {
      "cell_type": "code",
      "execution_count": null,
      "metadata": {
        "id": "LsnL-JQn6ca1"
      },
      "outputs": [],
      "source": [
        "# What is a dictionary in Python?\n",
        "# A) a set of values of any type \n",
        "# B) an ordered collection of objects that can be of different types\n",
        "# C) an unordered collection of objects that can only be of the same type\n",
        "# D) a collection of key-value pairs"
      ]
    },
    {
      "cell_type": "code",
      "execution_count": null,
      "metadata": {
        "id": "TRstZAOv6vcf"
      },
      "outputs": [],
      "source": [
        "# How do you add a key-value pair to a dictionary x in Python?\n",
        "# A) x = x + {key: value}\n",
        "# B) x[key] = value\n",
        "# C) x.append(key, value)\n",
        "# D) x.insert(key, value)"
      ]
    },
    {
      "cell_type": "code",
      "execution_count": null,
      "metadata": {
        "id": "J9nmbZjX7L3k"
      },
      "outputs": [],
      "source": [
        "# What is a tuple in Python?\n",
        "# A) a collection of key-value pairs\n",
        "# B) an ordered collection of objects that can be of different types\n",
        "# C) an immutable sequence of objects that can be of different types\n",
        "# D) a mutable sequence of objects that can only be of the same type"
      ]
    },
    {
      "cell_type": "code",
      "execution_count": null,
      "metadata": {
        "id": "0dhnNeU_3iBk"
      },
      "outputs": [],
      "source": [
        "# What is the output of the following codes?"
      ]
    },
    {
      "cell_type": "code",
      "execution_count": null,
      "metadata": {
        "id": "XBJDys4S5Mro"
      },
      "outputs": [],
      "source": [
        "x = 5\n",
        "y = 3.14\n",
        "print(x + y)\n"
      ]
    },
    {
      "cell_type": "code",
      "execution_count": null,
      "metadata": {
        "id": "Bd3lprC75Qcy"
      },
      "outputs": [],
      "source": [
        "x = 5\n",
        "y = 3\n",
        "print(x / y)\n"
      ]
    },
    {
      "cell_type": "code",
      "execution_count": null,
      "metadata": {
        "id": "VRYhgPR25TrN"
      },
      "outputs": [],
      "source": [
        "x = 5\n",
        "y = 3\n",
        "print(x % y)\n"
      ]
    },
    {
      "cell_type": "code",
      "execution_count": null,
      "metadata": {
        "id": "tRmnnIHl5XCW"
      },
      "outputs": [],
      "source": [
        "x = 5\n",
        "y = 3\n",
        "print(x ** y)\n"
      ]
    },
    {
      "cell_type": "code",
      "execution_count": null,
      "metadata": {
        "id": "KY6bCPrR5TuZ"
      },
      "outputs": [],
      "source": [
        "5 + 2 * 3 - 2"
      ]
    },
    {
      "cell_type": "code",
      "execution_count": null,
      "metadata": {
        "id": "cU_wl90951wn"
      },
      "outputs": [],
      "source": [
        "x = \"Hello\"\n",
        "y = \"world\"\n",
        "print(x + y)\n"
      ]
    },
    {
      "cell_type": "code",
      "execution_count": null,
      "metadata": {
        "id": "fV7fqpV255Ia"
      },
      "outputs": [],
      "source": [
        "x = \"Hello\"\n",
        "y = \"world\"\n",
        "print(x * 3)\n"
      ]
    },
    {
      "cell_type": "code",
      "execution_count": null,
      "metadata": {
        "id": "nSdjZFb058ql"
      },
      "outputs": [],
      "source": [
        "x = \"Hello\"\n",
        "print(x[2])\n"
      ]
    },
    {
      "cell_type": "code",
      "execution_count": null,
      "metadata": {
        "id": "wyOH4x3F6BD-"
      },
      "outputs": [],
      "source": [
        "x = \"Hello\"\n",
        "print(x[2:4])\n"
      ]
    },
    {
      "cell_type": "code",
      "execution_count": null,
      "metadata": {
        "id": "Di_QPdCX3j_f"
      },
      "outputs": [],
      "source": [
        "x = 5\n",
        "y = \"Hello\"\n",
        "print(x + y)\n"
      ]
    },
    {
      "cell_type": "code",
      "execution_count": null,
      "metadata": {
        "id": "h4J56t_x36ik"
      },
      "outputs": [],
      "source": [
        "x = [1, 2, 3]\n",
        "y = x\n",
        "y[1] = 4\n",
        "print(x)\n"
      ]
    },
    {
      "cell_type": "code",
      "execution_count": null,
      "metadata": {
        "id": "oSHNutlQ7xp3"
      },
      "outputs": [],
      "source": [
        "x = {\"a\": 1, \"b\": 2}\n",
        "print(x[\"a\"])\n"
      ]
    },
    {
      "cell_type": "code",
      "execution_count": null,
      "metadata": {
        "id": "Vs_ckwlh71ke"
      },
      "outputs": [],
      "source": [
        "x = {\"a\": 1, \"b\": 2}\n",
        "x[\"c\"] = 3\n",
        "print(x)\n"
      ]
    },
    {
      "cell_type": "code",
      "execution_count": null,
      "metadata": {
        "id": "UkcwyNl_36l5"
      },
      "outputs": [],
      "source": [
        "# How do you access the third element of a list x in Python?\n",
        "# A) x[2]\n",
        "# B) x[3]\n",
        "# C) x[-3]\n",
        "# D) x[0][2]"
      ]
    },
    {
      "cell_type": "code",
      "execution_count": null,
      "metadata": {
        "id": "f2UZVxzh36q_"
      },
      "outputs": [],
      "source": [
        "# How do you modify the second element of a tuple x in Python?\n",
        "# A) x[1] = 4\n",
        "# B) x.append(4)\n",
        "# C) x.insert(1, 4)\n",
        "# D) tuples are immutable, so it is not possible to modify them"
      ]
    }
  ],
  "metadata": {
    "colab": {
      "provenance": [],
      "authorship_tag": "ABX9TyPsLCHLw3ofdzt/HkQCEGKo",
      "include_colab_link": true
    },
    "kernelspec": {
      "display_name": "Python 3",
      "name": "python3"
    },
    "language_info": {
      "name": "python"
    }
  },
  "nbformat": 4,
  "nbformat_minor": 0
}