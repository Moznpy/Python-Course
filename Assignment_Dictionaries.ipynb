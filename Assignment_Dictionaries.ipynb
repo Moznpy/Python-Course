{
  "nbformat": 4,
  "nbformat_minor": 0,
  "metadata": {
    "colab": {
      "provenance": [],
      "authorship_tag": "ABX9TyOvdgaK+A/6FID3KaYJf9I+",
      "include_colab_link": true
    },
    "kernelspec": {
      "name": "python3",
      "display_name": "Python 3"
    },
    "language_info": {
      "name": "python"
    }
  },
  "cells": [
    {
      "cell_type": "markdown",
      "metadata": {
        "id": "view-in-github",
        "colab_type": "text"
      },
      "source": [
        "<a href=\"https://colab.research.google.com/github/Moznpy/Python-Course/blob/main/Assignment_Dictionaries.ipynb\" target=\"_parent\"><img src=\"https://colab.research.google.com/assets/colab-badge.svg\" alt=\"Open In Colab\"/></a>"
      ]
    },
    {
      "cell_type": "code",
      "source": [
        "# Assignment on Dictionaries\n"
      ],
      "metadata": {
        "id": "j2euPZUDEknL"
      },
      "execution_count": null,
      "outputs": []
    },
    {
      "cell_type": "code",
      "execution_count": 1,
      "metadata": {
        "id": "_s3Wa7XhvXVC"
      },
      "outputs": [],
      "source": [
        "# Assignment on Dictionaries\n",
        "\n",
        "## Part 1: Creating and Modifying Dictionaries\n",
        "\n",
        "# 1. Create a dictionary called `student` that contains the following key-value pairs:\n",
        "#   - \"name\": \"John Smith\"\n",
        "#   - \"age\": 25\n",
        "#   - \"courses\": [\"Math\", \"Physics\"]\n",
        "\n",
        "student = {\"name\" : \"John Smith\", \"age\" : 25, \"courses\" : [\"Math\", \"Physics\"]} \n",
        "student\n",
        "\n"
      ]
    },
    {
      "cell_type": "code",
      "source": [
        "# 2. Add a new key-value pair to the dictionary called \"phone\" with the value \"555-555-1212\".\n",
        "\n",
        "student[\"phone\"] = \"555-555-1212\"\n",
        "student\n"
      ],
      "metadata": {
        "id": "gZ82AKNWEa4n"
      },
      "execution_count": 2,
      "outputs": []
    },
    {
      "cell_type": "code",
      "source": [
        "# 3. Update the value for the key \"age\" to 26.\n",
        "\n",
        "student[\"age\"] = 26\n",
        "student\n"
      ],
      "metadata": {
        "id": "Shh4mfElEcWX"
      },
      "execution_count": 3,
      "outputs": []
    },
    {
      "cell_type": "code",
      "source": [
        "\n",
        "# 4. Remove the key-value pair for \"courses\".\n",
        "\n",
        "del student[\"courses\"]\n",
        "student\n",
        "\n",
        "\n"
      ],
      "metadata": {
        "id": "l5af7kmCEcYs"
      },
      "execution_count": 4,
      "outputs": []
    },
    {
      "cell_type": "code",
      "source": [
        "## Part 2: Accessing Dictionary Values\n",
        "\n",
        "# 1. Access the value for the key \"name\" and assign it to a variable called `name`.\n",
        "\n",
        "name = student[\"name\"]\n",
        "student\n",
        "name\n",
        "\n"
      ],
      "metadata": {
        "id": "WqDY4OyQEcbA"
      },
      "execution_count": 5,
      "outputs": []
    },
    {
      "cell_type": "code",
      "source": [
        "# 2. Access the value for the key \"phone\" and assign it to a variable called `phone`. If the key does not exist, print a message saying \"Phone number not found\".\n",
        "phone = student[\"phone\"]\n",
        "phone\n"
      ],
      "metadata": {
        "id": "NPFvgbzFEcdw"
      },
      "execution_count": 6,
      "outputs": []
    },
    {
      "cell_type": "code",
      "source": [],
      "metadata": {
        "id": "JCqCmoYoEciu"
      },
      "execution_count": null,
      "outputs": []
    }
  ]
}