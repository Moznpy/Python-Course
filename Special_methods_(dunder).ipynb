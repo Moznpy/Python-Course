{
  "nbformat": 4,
  "nbformat_minor": 0,
  "metadata": {
    "colab": {
      "provenance": [],
      "authorship_tag": "ABX9TyNwYr/3eHm5u0OY25FGSY82",
      "include_colab_link": true
    },
    "kernelspec": {
      "name": "python3",
      "display_name": "Python 3"
    },
    "language_info": {
      "name": "python"
    }
  },
  "cells": [
    {
      "cell_type": "markdown",
      "metadata": {
        "id": "view-in-github",
        "colab_type": "text"
      },
      "source": [
        "<a href=\"https://colab.research.google.com/github/Moznpy/Python-Course/blob/main/Special_methods_(dunder).ipynb\" target=\"_parent\"><img src=\"https://colab.research.google.com/assets/colab-badge.svg\" alt=\"Open In Colab\"/></a>"
      ]
    },
    {
      "cell_type": "code",
      "execution_count": 2,
      "metadata": {
        "id": "W9FumBCykxyQ"
      },
      "outputs": [],
      "source": [
        "# In Python, special methods are methods that have double underscores at the beginning and end of their names, also known as \"dunder\" (short for \"double underscore\") methods. \n",
        "# These methods are used to define the behavior of certain operations on an object, such as addition or indexing.\n",
        "# Two of the most commonly used special methods are the __str__ and __len__ methods."
      ]
    },
    {
      "cell_type": "code",
      "source": [
        "# __str__ is a special method that is used to define the string representation of an object. \n",
        "# When you print an object, the __str__ method is called to return a string representation of the object. \n",
        "# If you don't define a __str__ method in your class, Python will use the default one which will give you the memory address of the object."
      ],
      "metadata": {
        "id": "7raT3tVKlJ9m"
      },
      "execution_count": null,
      "outputs": []
    },
    {
      "cell_type": "code",
      "source": [
        "# __len__ is a special method that is used to define the length of an object. \n",
        "# It is used when you call the len() function on an object.\n",
        "# If you don't define a __len__ method in your class, Python will raise a TypeError when you call the len() function on an object of that class.\n",
        "\n"
      ],
      "metadata": {
        "id": "9l554q3klT69"
      },
      "execution_count": null,
      "outputs": []
    },
    {
      "cell_type": "code",
      "source": [
        "class MyClass:\n",
        "    def __init__(self, name):\n",
        "        self.name = name\n",
        "\n",
        "    def __str__(self):\n",
        "        return self.name\n",
        "\n",
        "    def __len__(self):\n",
        "        return len(self.name)\n",
        "\n",
        "obj = MyClass(\"John Doe\")\n",
        "\n",
        "print(obj) \n",
        "len(obj)\n"
      ],
      "metadata": {
        "colab": {
          "base_uri": "https://localhost:8080/"
        },
        "id": "og9tURoFlZn0",
        "outputId": "0ae9fbfb-3fbd-4eee-a2b9-5b551c458ff9"
      },
      "execution_count": 4,
      "outputs": [
        {
          "output_type": "stream",
          "name": "stdout",
          "text": [
            "John Doe\n"
          ]
        },
        {
          "output_type": "execute_result",
          "data": {
            "text/plain": [
              "8"
            ]
          },
          "metadata": {},
          "execution_count": 4
        }
      ]
    },
    {
      "cell_type": "code",
      "source": [
        "class MyList:\n",
        "    def __init__(self, items):\n",
        "        self.items = items\n",
        "\n",
        "    def __str__(self):\n",
        "        return str(self.items)\n",
        "\n",
        "    def __len__(self):\n",
        "        return len(self.items)\n",
        "\n",
        "my_list = MyList([1, 2, 3, 4, 5])\n",
        "print(my_list) \n",
        "len(my_list)\n"
      ],
      "metadata": {
        "colab": {
          "base_uri": "https://localhost:8080/"
        },
        "id": "2bIlAxX1mJGX",
        "outputId": "3e317563-a332-4ac8-b0c3-8517561ad61a"
      },
      "execution_count": 8,
      "outputs": [
        {
          "output_type": "stream",
          "name": "stdout",
          "text": [
            "<__main__.MyList object at 0x7fa1d97c1ac0>\n"
          ]
        },
        {
          "output_type": "execute_result",
          "data": {
            "text/plain": [
              "5"
            ]
          },
          "metadata": {},
          "execution_count": 8
        }
      ]
    },
    {
      "cell_type": "code",
      "source": [
        "# the __del__ method is a special method in Python that is called when an object is about to be destroyed.\n",
        "# It's also known as the \"destructor\" method. It is defined using the double underscore __del__. The __del__ method is used to release any resources that the object may be holding.\n",
        "\n",
        "# Here's an example:"
      ],
      "metadata": {
        "id": "EhInDCRRmsyv"
      },
      "execution_count": null,
      "outputs": []
    },
    {
      "cell_type": "code",
      "source": [
        "class MyResource:\n",
        "    def __init__(self, name):\n",
        "        self.name = name\n",
        "        print(f\"{self.name} resource created\")\n",
        "    def __del__(self):\n",
        "        print(f\"{self.name} resource deleted\")\n",
        "\n",
        "res1 = MyResource(\"File\")\n",
        "\n",
        "del res1\n"
      ],
      "metadata": {
        "colab": {
          "base_uri": "https://localhost:8080/"
        },
        "id": "ArMI-5PemZS2",
        "outputId": "247735aa-39d4-44ac-8bc4-79abae39a661"
      },
      "execution_count": 10,
      "outputs": [
        {
          "output_type": "stream",
          "name": "stdout",
          "text": [
            "File resource created\n",
            "File resource deleted\n"
          ]
        }
      ]
    },
    {
      "cell_type": "code",
      "source": [],
      "metadata": {
        "id": "_QM1Sn7OWsXM"
      },
      "execution_count": null,
      "outputs": []
    }
  ]
}