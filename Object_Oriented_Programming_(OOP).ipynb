{
  "nbformat": 4,
  "nbformat_minor": 0,
  "metadata": {
    "colab": {
      "provenance": [],
      "authorship_tag": "ABX9TyOuBpF/k0IpMBS3lbiWksLA",
      "include_colab_link": true
    },
    "kernelspec": {
      "name": "python3",
      "display_name": "Python 3"
    },
    "language_info": {
      "name": "python"
    }
  },
  "cells": [
    {
      "cell_type": "markdown",
      "metadata": {
        "id": "view-in-github",
        "colab_type": "text"
      },
      "source": [
        "<a href=\"https://colab.research.google.com/github/Moznpy/Python-Course/blob/main/Object_Oriented_Programming_(OOP).ipynb\" target=\"_parent\"><img src=\"https://colab.research.google.com/assets/colab-badge.svg\" alt=\"Open In Colab\"/></a>"
      ]
    },
    {
      "cell_type": "code",
      "execution_count": null,
      "metadata": {
        "id": "WWG1omGeLf71"
      },
      "outputs": [],
      "source": [
        "# OOP allows for the organization of code into smaller, reusable components, making it easier to build, maintain, and scale software. \n",
        "\n",
        "# In other words, OOP is a way to create and use objects, which are instances of classes, to structure and organize code, making it more readable and easier to understand.\n"
      ]
    },
    {
      "cell_type": "code",
      "source": [
        "# Some key concepts in OOP include:\n"
      ],
      "metadata": {
        "id": "iGolEltgwubo"
      },
      "execution_count": null,
      "outputs": []
    },
    {
      "cell_type": "code",
      "source": [
        "\n",
        "# Classes: \n",
        "\n",
        "# A class is a template or blueprint for creating objects. It defines the attributes and behaviors that the objects created from it will have. \n",
        "# For example, you could create a class called \"Car\" that defines the attributes of a car, such as its make, model, and color, \n",
        "# and the behaviors, such as starting the engine and honking the horn.\n",
        "\n"
      ],
      "metadata": {
        "id": "ixdyRZN1wugF"
      },
      "execution_count": null,
      "outputs": []
    },
    {
      "cell_type": "code",
      "source": [
        "# Objects: \n",
        "\n",
        "# An object is an instance of a class. It has its own unique set of attributes and behaviors that are defined by the class. \n",
        "# For example, you could create an object called \"myCar\" that is an instance of the \"Car\" class. \"myCar\" would have its own make, model, \n",
        "# and color, and would be able to start its engine and honk its horn.\n"
      ],
      "metadata": {
        "id": "Sb5mND7Dw9PO"
      },
      "execution_count": null,
      "outputs": []
    },
    {
      "cell_type": "code",
      "source": [
        "\n",
        "# Attributes:\n",
        "\n",
        "# Attributes are the characteristics or properties of an object. \n",
        "# They can be thought of as variables that hold data. For example, the \"Car\" class could have attributes for the make, model, and color of the car.\n"
      ],
      "metadata": {
        "id": "DSIMCzp_w9SG"
      },
      "execution_count": null,
      "outputs": []
    },
    {
      "cell_type": "code",
      "source": [
        "\n",
        "# Methods: \n",
        "\n",
        "# Methods are the behaviors or actions that an object can perform.\n",
        "# They can be thought of as functions that are associated with an object. For example, the \"Car\" class could have methods for starting the engine and honking the horn."
      ],
      "metadata": {
        "id": "ZwoRQkr7w9US"
      },
      "execution_count": null,
      "outputs": []
    },
    {
      "cell_type": "code",
      "source": [
        "class Car():\n",
        "    def __init__(self, make, model):\n",
        "        self.make = make\n",
        "        self.model = model\n",
        "\n",
        "my_car = Car(\"Toyota\", \"Camry\") #this is an object\n",
        "\n",
        "#Call\n",
        "# my_car.make\n",
        "my_car.model\n",
        "\n"
      ],
      "metadata": {
        "id": "HXCRHz-wwuiY",
        "colab": {
          "base_uri": "https://localhost:8080/",
          "height": 36
        },
        "outputId": "756bf839-a8ad-43bb-a8f4-0925ea64b65f"
      },
      "execution_count": 2,
      "outputs": [
        {
          "output_type": "execute_result",
          "data": {
            "text/plain": [
              "'Camry'"
            ],
            "application/vnd.google.colaboratory.intrinsic+json": {
              "type": "string"
            }
          },
          "metadata": {},
          "execution_count": 2
        }
      ]
    },
    {
      "cell_type": "code",
      "source": [
        "# In this example:\n",
        "\n",
        "# Car is the class. It's a blueprint or template for creating objects.\n",
        "# my_car is an object of the class Car. It's an instance of the class and has its own unique set of attributes.\n",
        "# make and model are attributes of the object my_car. \n",
        "# They are characteristics or properties of the object and they can be accessed using the dot notation, my_car.make and my_car.model, respectively.\n",
        "# __init__ is a method of the class Car. It's a special method that is called when an object of the class is created and it's used to initialize the object's attributes.\n",
        "\n",
        "# In this example, the class Car defines two attributes make and model and a method __init__, and an object of the class Car is created, the __init__ method is called to initialize the object's make and model attributes.\n",
        "\n",
        "# After that, the attributes of the object can be accessed and used."
      ],
      "metadata": {
        "id": "xUBZ_9XSF1L7"
      },
      "execution_count": null,
      "outputs": []
    },
    {
      "cell_type": "code",
      "source": [
        "# The self keyword is used within a class method to refer to the current object.\n",
        "#  It's a convention in Python to use self as the first argument of a class method, but you can use any other name.\n",
        "\n",
        "# The __init__ method is a special method in Python that is called when an object of a class is created. \n",
        "# It's used to initialize the object's attributes. The __init__ method takes the self keyword as the first argument, which is a reference to the current object being created.\n",
        "\n",
        "# In the example I provided before, def __init__(self, make, model):,\n",
        "#  __init__ method takes two arguments make, model and the self keyword, which is used to initialize the object's attributes self.make = make and self.model = model.\n",
        "\n",
        "# The __init__ method is automatically called when an object of the class is created, \n",
        "# and it allows you to set the initial state of the object. It's a convenient way to set the object's attributes without having to write separate code to set them.\n",
        "\n",
        "# You can consider __init__ method as a constructor of a class, it is called when an object of the class is created and it allows you to set the initial state of the object."
      ],
      "metadata": {
        "id": "pvNoBIlTfh_z"
      },
      "execution_count": null,
      "outputs": []
    }
  ]
}