{
  "nbformat": 4,
  "nbformat_minor": 0,
  "metadata": {
    "colab": {
      "provenance": [],
      "authorship_tag": "ABX9TyP2Ejvo/503gNUgvJ8NP/ZQ",
      "include_colab_link": true
    },
    "kernelspec": {
      "name": "python3",
      "display_name": "Python 3"
    },
    "language_info": {
      "name": "python"
    }
  },
  "cells": [
    {
      "cell_type": "markdown",
      "metadata": {
        "id": "view-in-github",
        "colab_type": "text"
      },
      "source": [
        "<a href=\"https://colab.research.google.com/github/Moznpy/Python-Course/blob/main/Useful_operators_in_Python_range%2C_in.ipynb\" target=\"_parent\"><img src=\"https://colab.research.google.com/assets/colab-badge.svg\" alt=\"Open In Colab\"/></a>"
      ]
    },
    {
      "cell_type": "code",
      "execution_count": null,
      "metadata": {
        "id": "Y4qF00NwcTHg"
      },
      "outputs": [],
      "source": [
        "# In Python, the range function returns a sequence of numbers,\n",
        "# starting from 0 by default, and increments by 1 (also by default), and ends at a specified number.\n",
        "\n",
        "# Here are a few examples to illustrate the different cases:\n",
        "\n"
      ]
    },
    {
      "cell_type": "code",
      "source": [
        "# start and stop arguments only\n",
        "for i in range(6):\n",
        "    print(i)\n"
      ],
      "metadata": {
        "colab": {
          "base_uri": "https://localhost:8080/"
        },
        "id": "SPCqukr3cuKw",
        "outputId": "b4747bf4-d4f3-42b4-d35a-296e7fa5e39b"
      },
      "execution_count": 22,
      "outputs": [
        {
          "output_type": "stream",
          "name": "stdout",
          "text": [
            "0\n",
            "1\n",
            "2\n",
            "3\n",
            "4\n",
            "5\n"
          ]
        }
      ]
    },
    {
      "cell_type": "code",
      "source": [
        "# start and stop arguments, increment by default (1)\n",
        "for i in range(1, 11):\n",
        "    print(i)\n"
      ],
      "metadata": {
        "colab": {
          "base_uri": "https://localhost:8080/"
        },
        "id": "Pb6UkpKRczOs",
        "outputId": "37f086ec-9628-458d-841f-6eafd1c55dd3"
      },
      "execution_count": 28,
      "outputs": [
        {
          "output_type": "stream",
          "name": "stdout",
          "text": [
            "1\n",
            "2\n",
            "3\n",
            "4\n",
            "5\n",
            "6\n",
            "7\n",
            "8\n",
            "9\n",
            "10\n"
          ]
        }
      ]
    },
    {
      "cell_type": "code",
      "source": [
        "# start, stop, and step arguments\n",
        "for i in range(3, 12, 2):\n",
        "    print(i)\n"
      ],
      "metadata": {
        "colab": {
          "base_uri": "https://localhost:8080/"
        },
        "id": "n6zSBGlHc8K_",
        "outputId": "bf8c1cef-f314-41e6-e897-406b28b82def"
      },
      "execution_count": 33,
      "outputs": [
        {
          "output_type": "stream",
          "name": "stdout",
          "text": [
            "3\n",
            "5\n",
            "7\n",
            "9\n",
            "11\n"
          ]
        }
      ]
    },
    {
      "cell_type": "code",
      "source": [
        "# negative step argument\n",
        "for i in range(5, 0, -1):\n",
        "    print(i)\n"
      ],
      "metadata": {
        "colab": {
          "base_uri": "https://localhost:8080/"
        },
        "id": "mYfSRUpadCUH",
        "outputId": "20ce910a-308a-495b-e1a1-f688eafb9ef3"
      },
      "execution_count": 34,
      "outputs": [
        {
          "output_type": "stream",
          "name": "stdout",
          "text": [
            "5\n",
            "4\n",
            "3\n",
            "2\n",
            "1\n"
          ]
        }
      ]
    },
    {
      "cell_type": "code",
      "source": [
        "# In Python, the (in) keyword is used to check if an element is present in a sequence (such as a list, tuple, or string).\n",
        "# It returns True if the element is present in the sequence, and False if it is not.\n",
        "\n",
        "# Here are a few examples to illustrate the use of the in keyword:\n"
      ],
      "metadata": {
        "id": "vUutEvPNczRH"
      },
      "execution_count": null,
      "outputs": []
    },
    {
      "cell_type": "code",
      "source": [
        "fruits = ['apple', 'banana', 'orange']\n",
        "'apple' in fruits\n",
        "\n"
      ],
      "metadata": {
        "colab": {
          "base_uri": "https://localhost:8080/"
        },
        "id": "byBPF2U4dU0U",
        "outputId": "c6eaa5e0-0a7a-47fc-8331-a8085f9e3e9e"
      },
      "execution_count": 38,
      "outputs": [
        {
          "output_type": "execute_result",
          "data": {
            "text/plain": [
              "True"
            ]
          },
          "metadata": {},
          "execution_count": 38
        }
      ]
    },
    {
      "cell_type": "code",
      "source": [
        "# If you want to check if a value is present in a dictionary, you can use the values() method and the in operator:\n",
        "\n",
        "fruit = {'apple': 'red', 'banana': 'yellow', 'orange': 'orange'}\n",
        "'banana' in fruit.keys()\n",
        "\n",
        "\n",
        "\n"
      ],
      "metadata": {
        "colab": {
          "base_uri": "https://localhost:8080/"
        },
        "id": "1gbpXq_4lXwb",
        "outputId": "ce40ec06-96c4-4e3a-9417-ff362d731234"
      },
      "execution_count": 43,
      "outputs": [
        {
          "output_type": "execute_result",
          "data": {
            "text/plain": [
              "True"
            ]
          },
          "metadata": {},
          "execution_count": 43
        }
      ]
    },
    {
      "cell_type": "code",
      "source": [
        "# You can also use the in operator to test whether a value is present in a dictionary. \n",
        "# In this case, it will return True if the value is found as a key in the dictionary, and False otherwise.\n",
        "\n",
        "prices = {'apple': 0.5, 'banana': 0.25, 'orange': 0.75}\n",
        "'2' in prices.values()\n",
        "\n",
        "\n"
      ],
      "metadata": {
        "colab": {
          "base_uri": "https://localhost:8080/"
        },
        "id": "tAizBjHRkOhw",
        "outputId": "b205b729-d19e-43c4-fc85-85866c243680"
      },
      "execution_count": 47,
      "outputs": [
        {
          "output_type": "execute_result",
          "data": {
            "text/plain": [
              "False"
            ]
          },
          "metadata": {},
          "execution_count": 47
        }
      ]
    },
    {
      "cell_type": "code",
      "source": [
        "# Also, you can use the in operator to test whether a value is present in a string. \n",
        "# In this case, it will return True if the value is found as a sub-string of the string, and False otherwise.\n",
        "\n",
        "name = 'Alice'\n",
        "'a' in name\n",
        "\n"
      ],
      "metadata": {
        "colab": {
          "base_uri": "https://localhost:8080/"
        },
        "id": "uIrqGYhTczTq",
        "outputId": "953514ce-f3d6-4c60-fa6d-f9f33fb25388"
      },
      "execution_count": 50,
      "outputs": [
        {
          "output_type": "execute_result",
          "data": {
            "text/plain": [
              "False"
            ]
          },
          "metadata": {},
          "execution_count": 50
        }
      ]
    }
  ]
}