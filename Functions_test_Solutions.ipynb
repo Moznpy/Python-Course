{
  "nbformat": 4,
  "nbformat_minor": 0,
  "metadata": {
    "colab": {
      "provenance": [],
      "authorship_tag": "ABX9TyN4qGHcIdXAIZU6mTLYjktR",
      "include_colab_link": true
    },
    "kernelspec": {
      "name": "python3",
      "display_name": "Python 3"
    },
    "language_info": {
      "name": "python"
    }
  },
  "cells": [
    {
      "cell_type": "markdown",
      "metadata": {
        "id": "view-in-github",
        "colab_type": "text"
      },
      "source": [
        "<a href=\"https://colab.research.google.com/github/Moznpy/Python-Course/blob/main/Functions_test_Solutions.ipynb\" target=\"_parent\"><img src=\"https://colab.research.google.com/assets/colab-badge.svg\" alt=\"Open In Colab\"/></a>"
      ]
    },
    {
      "cell_type": "code",
      "execution_count": 3,
      "metadata": {
        "id": "xIgOdjHdeuFi"
      },
      "outputs": [],
      "source": [
        "# Write a function that takes in two numbers as arguments and returns their sum. \n",
        "# What is the output of the function when you call it with the numbers 3 and 4?\n",
        "\n",
        "def add(x, y):\n",
        "    return x + y\n",
        "add(3, 4)\n"
      ]
    },
    {
      "cell_type": "code",
      "source": [
        "\n",
        "# Write a function that takes in a list of numbers and returns the average of the numbers. \n",
        "# What is the output of the function when you call it with the list [1, 2, 3, 4, 5]?\n",
        "\n",
        "\n",
        "def average(numbers):\n",
        "    return sum(numbers) / len(numbers)\n",
        "average([1, 2, 3, 4, 5])\n"
      ],
      "metadata": {
        "id": "99u4LlQle37Q"
      },
      "execution_count": null,
      "outputs": []
    },
    {
      "cell_type": "code",
      "source": [
        "\n",
        "# Write a function that takes in a string and returns a copy of the string with all vowels removed.\n",
        "# What is the output of the function when you call it with the string \"Hello, World!\"?\n",
        "\n",
        "def remove_vowels(s):\n",
        "    vowels = 'aeiouAEIOU'\n",
        "    return ''.join(c for c in s if c not in vowels)\n",
        "remove_vowels(\"Hello, World!\")\n",
        "\n"
      ],
      "metadata": {
        "id": "4sctmC8Ve3_J"
      },
      "execution_count": 16,
      "outputs": []
    },
    {
      "cell_type": "code",
      "source": [
        "# Write a function that takes in a dictionary and returns a list of all the values in the dictionary. \n",
        "# What is the output of the function when you call it with the dictionary {'a': 1, 'b': 2, 'c': 3}?\n",
        "\n",
        "def get_values(d):\n",
        "    return list(d.values())\n",
        "get_values({'a': 1, 'b': 2, 'c': 3})\n"
      ],
      "metadata": {
        "id": "hgU86HWMe4CJ"
      },
      "execution_count": 19,
      "outputs": []
    },
    {
      "cell_type": "code",
      "source": [
        "\n",
        "# Write a function that takes in a number and returns True if the number is even, and False if the number is odd. \n",
        "# What is the output of the function when you call it with the number 7?\n",
        "\n",
        "def is_even(n):\n",
        "    return n % 2 == 0\n",
        "is_even(7)\n"
      ],
      "metadata": {
        "id": "vZiSt3Ewe4FY"
      },
      "execution_count": 21,
      "outputs": []
    },
    {
      "cell_type": "code",
      "source": [
        "\n",
        "# Write a function that takes in a list of strings and returns a new list with all the strings in upper case.\n",
        "# What is the output of the function when you call it with the list ['a', 'b', 'c']?\n",
        "def to_upper(strings):\n",
        "    return [s.upper() for s in strings]\n",
        "to_upper(['a', 'b', 'c'])\n",
        "\n"
      ],
      "metadata": {
        "id": "1pwEHcWXe4HD"
      },
      "execution_count": null,
      "outputs": []
    },
    {
      "cell_type": "code",
      "source": [
        "\n",
        "# Write a function that takes in a string and returns the string with all its letters in reverse order.\n",
        "#  What is the output of the function when you call it with the string \"python\"?\n",
        "def reverse(s):\n",
        "    return s[::-1]\n",
        "reverse(\"python\")"
      ],
      "metadata": {
        "id": "DjfuZV9Re4JR"
      },
      "execution_count": null,
      "outputs": []
    }
  ]
}