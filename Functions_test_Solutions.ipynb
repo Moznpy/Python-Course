{
  "nbformat": 4,
  "nbformat_minor": 0,
  "metadata": {
    "colab": {
      "provenance": [],
      "authorship_tag": "ABX9TyM9HymTIYB7Jo+tHi2M0wGr",
      "include_colab_link": true
    },
    "kernelspec": {
      "name": "python3",
      "display_name": "Python 3"
    },
    "language_info": {
      "name": "python"
    }
  },
  "cells": [
    {
      "cell_type": "markdown",
      "metadata": {
        "id": "view-in-github",
        "colab_type": "text"
      },
      "source": [
        "<a href=\"https://colab.research.google.com/github/Moznpy/Python-Course/blob/main/Functions_test_Solutions.ipynb\" target=\"_parent\"><img src=\"https://colab.research.google.com/assets/colab-badge.svg\" alt=\"Open In Colab\"/></a>"
      ]
    },
    {
      "cell_type": "code",
      "execution_count": 9,
      "metadata": {
        "id": "xIgOdjHdeuFi",
        "colab": {
          "base_uri": "https://localhost:8080/"
        },
        "outputId": "37cb7ec9-15dc-4631-fdaf-2c4678d96465"
      },
      "outputs": [
        {
          "output_type": "execute_result",
          "data": {
            "text/plain": [
              "15"
            ]
          },
          "metadata": {},
          "execution_count": 9
        }
      ],
      "source": [
        "# Write a function that takes in two numbers as arguments and returns their sum. \n",
        "# What is the output of the function when you call it with the numbers 3 and 4?\n",
        "\n",
        "def add(x,y):\n",
        "  return x + y\n",
        "\n",
        "add(3,4)\n",
        "\n",
        "\n",
        "def add(numbers):\n",
        "  return sum(numbers)\n",
        "\n",
        "add([1,2,3,4,5])\n"
      ]
    },
    {
      "cell_type": "code",
      "source": [
        "\n",
        "# Write a function that takes in a list of numbers and returns the average of the numbers. \n",
        "# What is the output of the function when you call it with the list [1, 2, 3, 4, 5]?\n",
        "\n",
        "def average(numbers):\n",
        "  return sum(numbers) / len(numbers)\n",
        "\n",
        "average([1,2,3,4,5])\n"
      ],
      "metadata": {
        "id": "99u4LlQle37Q",
        "colab": {
          "base_uri": "https://localhost:8080/"
        },
        "outputId": "ab3d6f67-0e4f-45e8-d160-41a302f387ac"
      },
      "execution_count": 11,
      "outputs": [
        {
          "output_type": "execute_result",
          "data": {
            "text/plain": [
              "3.0"
            ]
          },
          "metadata": {},
          "execution_count": 11
        }
      ]
    },
    {
      "cell_type": "code",
      "source": [
        "\n",
        "# Write a function that takes in a string and returns a copy of the string with all vowels removed.\n",
        "# What is the output of the function when you call it with the string \"Hello, World!\"?\n",
        "\n",
        "def remove_vowels(s):\n",
        "    vowels = 'aeiouAEIOU'\n",
        "    return ''.join(c for c in s if c not in vowels)\n",
        "remove_vowels(\"Hello, World!\")\n",
        "\n"
      ],
      "metadata": {
        "id": "4sctmC8Ve3_J",
        "colab": {
          "base_uri": "https://localhost:8080/",
          "height": 36
        },
        "outputId": "7b9a6ca7-1830-457a-c860-26989ba99161"
      },
      "execution_count": 12,
      "outputs": [
        {
          "output_type": "execute_result",
          "data": {
            "text/plain": [
              "'Hll, Wrld!'"
            ],
            "application/vnd.google.colaboratory.intrinsic+json": {
              "type": "string"
            }
          },
          "metadata": {},
          "execution_count": 12
        }
      ]
    },
    {
      "cell_type": "code",
      "source": [
        "# Write a function that takes in a dictionary and returns a list of all the values in the dictionary. \n",
        "# What is the output of the function when you call it with the dictionary {'a': 1, 'b': 2, 'c': 3}?\n",
        "\n",
        "def get_values(d):\n",
        "    return list(d.values())\n",
        "\n",
        "get_values({'a': 1, 'b': 2, 'c': 3})\n"
      ],
      "metadata": {
        "id": "hgU86HWMe4CJ",
        "colab": {
          "base_uri": "https://localhost:8080/"
        },
        "outputId": "44bb9b64-6eca-460a-dc29-d697b7ba43ed"
      },
      "execution_count": 22,
      "outputs": [
        {
          "output_type": "execute_result",
          "data": {
            "text/plain": [
              "[1, 2, 3]"
            ]
          },
          "metadata": {},
          "execution_count": 22
        }
      ]
    },
    {
      "cell_type": "code",
      "source": [
        "\n",
        "# Write a function that takes in a number and returns True if the number is even, and False if the number is odd. \n",
        "# What is the output of the function when you call it with the number 7?\n",
        "\n",
        "def is_even(n):\n",
        "    return n % 2 == 0\n",
        "is_even(7)\n"
      ],
      "metadata": {
        "id": "vZiSt3Ewe4FY",
        "colab": {
          "base_uri": "https://localhost:8080/"
        },
        "outputId": "6dbfe334-678a-49ce-a6cf-9582c995ee2f"
      },
      "execution_count": 17,
      "outputs": [
        {
          "output_type": "execute_result",
          "data": {
            "text/plain": [
              "False"
            ]
          },
          "metadata": {},
          "execution_count": 17
        }
      ]
    },
    {
      "cell_type": "code",
      "source": [
        "\n",
        "# Write a function that takes in a list of strings and returns a new list with all the strings in upper case.\n",
        "# What is the output of the function when you call it with the list ['a', 'b', 'c']?\n",
        "def to_upper(strings):\n",
        "    return [s.upper() for s in strings]\n",
        "    \n",
        "to_upper(['a', 'b', 'c'])\n",
        "\n"
      ],
      "metadata": {
        "id": "1pwEHcWXe4HD",
        "colab": {
          "base_uri": "https://localhost:8080/"
        },
        "outputId": "d5cea8cc-6f7d-441b-ad5c-004a0c4caf36"
      },
      "execution_count": 20,
      "outputs": [
        {
          "output_type": "execute_result",
          "data": {
            "text/plain": [
              "['A', 'B', 'C']"
            ]
          },
          "metadata": {},
          "execution_count": 20
        }
      ]
    },
    {
      "cell_type": "code",
      "source": [
        "\n",
        "# Write a function that takes in a string and returns the string with all its letters in reverse order.\n",
        "#  What is the output of the function when you call it with the string \"python\"?\n",
        "def reverse(s):\n",
        "    return s[::-1]\n",
        "reverse(\"python\")"
      ],
      "metadata": {
        "id": "DjfuZV9Re4JR",
        "colab": {
          "base_uri": "https://localhost:8080/",
          "height": 36
        },
        "outputId": "0c6adfc2-e25c-40fd-c976-20e74bcd4aad"
      },
      "execution_count": 21,
      "outputs": [
        {
          "output_type": "execute_result",
          "data": {
            "text/plain": [
              "'nohtyp'"
            ],
            "application/vnd.google.colaboratory.intrinsic+json": {
              "type": "string"
            }
          },
          "metadata": {},
          "execution_count": 21
        }
      ]
    }
  ]
}