{
  "nbformat": 4,
  "nbformat_minor": 0,
  "metadata": {
    "colab": {
      "provenance": [],
      "authorship_tag": "ABX9TyPVydAFdWTXIqzj2d3fYrio",
      "include_colab_link": true
    },
    "kernelspec": {
      "name": "python3",
      "display_name": "Python 3"
    },
    "language_info": {
      "name": "python"
    }
  },
  "cells": [
    {
      "cell_type": "markdown",
      "metadata": {
        "id": "view-in-github",
        "colab_type": "text"
      },
      "source": [
        "<a href=\"https://colab.research.google.com/github/Moznpy/Python-Course/blob/main/Untitled14.ipynb\" target=\"_parent\"><img src=\"https://colab.research.google.com/assets/colab-badge.svg\" alt=\"Open In Colab\"/></a>"
      ]
    },
    {
      "cell_type": "code",
      "execution_count": 1,
      "metadata": {
        "colab": {
          "base_uri": "https://localhost:8080/"
        },
        "id": "4Vbqgl88iNbl",
        "outputId": "18fd4a2d-f686-466a-ab7b-c5207717215c"
      },
      "outputs": [
        {
          "output_type": "execute_result",
          "data": {
            "text/plain": [
              "4186.666666666667"
            ]
          },
          "metadata": {},
          "execution_count": 1
        }
      ],
      "source": [
        "def vol(r):\n",
        "  return 4/3 * 3.14 * r**3\n",
        "\n",
        "vol(10)"
      ]
    },
    {
      "cell_type": "code",
      "source": [
        "def check(num,low,high):\n",
        "  if num in range(low,high):\n",
        "    print(f\"{num} is between {low} and {high}\" )\n",
        "  \n",
        "  else:\n",
        "    print(f\"{num} is not between {low} and {high}\" )\n",
        "    \n",
        "check(1,2,10)"
      ],
      "metadata": {
        "colab": {
          "base_uri": "https://localhost:8080/"
        },
        "id": "QebMC0M4iq5E",
        "outputId": "03f442ec-363c-4ec2-d8a3-3a4da3e99d8a"
      },
      "execution_count": 2,
      "outputs": [
        {
          "output_type": "stream",
          "name": "stdout",
          "text": [
            "1 is not between 2 and 10\n"
          ]
        }
      ]
    },
    {
      "cell_type": "code",
      "source": [
        "check(9,4,5)"
      ],
      "metadata": {
        "colab": {
          "base_uri": "https://localhost:8080/"
        },
        "id": "Mayw4KOjjLIB",
        "outputId": "f1d9ba6c-0d1e-4013-fdcd-e039fe5770e0"
      },
      "execution_count": 3,
      "outputs": [
        {
          "output_type": "stream",
          "name": "stdout",
          "text": [
            "9 is not between 4 and 5\n"
          ]
        }
      ]
    },
    {
      "cell_type": "code",
      "source": [
        "check(0,8,9)"
      ],
      "metadata": {
        "colab": {
          "base_uri": "https://localhost:8080/"
        },
        "id": "1tJZLQD7sdst",
        "outputId": "b4bc0921-fc89-44e2-dbaf-f7dc83513cbb"
      },
      "execution_count": 4,
      "outputs": [
        {
          "output_type": "stream",
          "name": "stdout",
          "text": [
            "0 is not between 8 and 9\n"
          ]
        }
      ]
    }
  ]
}