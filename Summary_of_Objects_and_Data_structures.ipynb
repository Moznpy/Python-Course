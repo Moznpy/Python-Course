{
  "nbformat": 4,
  "nbformat_minor": 0,
  "metadata": {
    "colab": {
      "provenance": [],
      "authorship_tag": "ABX9TyM//NY1pQzwtcKU6TGVH5rV",
      "include_colab_link": true
    },
    "kernelspec": {
      "name": "python3",
      "display_name": "Python 3"
    },
    "language_info": {
      "name": "python"
    }
  },
  "cells": [
    {
      "cell_type": "markdown",
      "metadata": {
        "id": "view-in-github",
        "colab_type": "text"
      },
      "source": [
        "<a href=\"https://colab.research.google.com/github/Moznpy/Python-Course/blob/main/Summary_of_Objects_and_Data_structures.ipynb\" target=\"_parent\"><img src=\"https://colab.research.google.com/assets/colab-badge.svg\" alt=\"Open In Colab\"/></a>"
      ]
    },
    {
      "cell_type": "code",
      "execution_count": 3,
      "metadata": {
        "id": "YB_APcihrzJw"
      },
      "outputs": [],
      "source": [
        "# Integer object: a whole number with no decimal point\n",
        "x = 10\n",
        "\n",
        "# Float object: a number with a decimal point\n",
        "y = 10.5\n",
        "\n",
        "# String object: a sequence of characters enclosed in quotes\n",
        "z = \"hello\"\n",
        "\n",
        "# Boolean object: a value that can be either True or False\n",
        "a = True\n",
        "b = False\n",
        "\n",
        "# List object: an ordered collection of objects that can be of any data type and can be modified\n",
        "list1 = [1, 2, 3, 4]\n",
        "\n",
        "# Tuple object: an ordered collection of objects that can be of any data type and cannot be modified\n",
        "tuple1 = (5, 6, 7, 8)\n",
        "\n",
        "# Set object: an unordered collection of unique objects that cannot be modified\n",
        "set1 = {9, 10, 11, 12}\n",
        "\n",
        "# Dictionary object: a collection of key-value pairs, where the keys must be unique and the values can be of any data type\n",
        "dict1 = {\"key1\": 13, \"key2\": 14, \"key3\": 15,\"key4\": 16}\n",
        "\n",
        "\n",
        "\n"
      ]
    }
  ]
}