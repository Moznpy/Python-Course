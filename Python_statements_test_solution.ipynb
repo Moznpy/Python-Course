{
  "nbformat": 4,
  "nbformat_minor": 0,
  "metadata": {
    "colab": {
      "provenance": [],
      "authorship_tag": "ABX9TyNVVRlJotADAwcWOhh9puL9",
      "include_colab_link": true
    },
    "kernelspec": {
      "name": "python3",
      "display_name": "Python 3"
    },
    "language_info": {
      "name": "python"
    }
  },
  "cells": [
    {
      "cell_type": "markdown",
      "metadata": {
        "id": "view-in-github",
        "colab_type": "text"
      },
      "source": [
        "<a href=\"https://colab.research.google.com/github/Moznpy/Python-Course/blob/main/Python_statements_test_solution.ipynb\" target=\"_parent\"><img src=\"https://colab.research.google.com/assets/colab-badge.svg\" alt=\"Open In Colab\"/></a>"
      ]
    },
    {
      "cell_type": "code",
      "execution_count": 22,
      "metadata": {
        "colab": {
          "base_uri": "https://localhost:8080/"
        },
        "id": "YIdyvtHYQqeh",
        "outputId": "7a2386df-6f41-46bc-cd1f-cb1c0743f837"
      },
      "outputs": [
        {
          "output_type": "stream",
          "name": "stdout",
          "text": [
            "words\n",
            "words\n"
          ]
        }
      ],
      "source": [
        "# Write a program that reads a list of words from a variable, and then prints out all of the words that have more than 4 letters.\n",
        "\n",
        "words = ['this', 'is', 'a', 'list', 'of', 'words']\n",
        "\n",
        "for word in words:\n",
        "  if len(word) > 4:\n",
        "    print(word)\n",
        "\n",
        "for word in words:\n",
        "  if len(word) > 4:\n",
        "   print(word)\n",
        "   \n",
        "   \n",
        "\n"
      ]
    },
    {
      "cell_type": "code",
      "source": [
        "# Write a program that reads a list of words from a variable, and then prints out the number of words that contain the letter 'e'.\n",
        "\n",
        "words = ['this', 'is', 'a', 'beautiful',  'list', 'of', 'words', 'english']\n",
        "\n",
        "count = 0\n",
        "for word in words:\n",
        "  if 'e' in word:\n",
        "    count = count + 1\n",
        "\n",
        "print(count)"
      ],
      "metadata": {
        "colab": {
          "base_uri": "https://localhost:8080/"
        },
        "id": "HOHOekjtRTod",
        "outputId": "96025861-565b-49da-f523-b6b6ff8f461f"
      },
      "execution_count": 11,
      "outputs": [
        {
          "output_type": "stream",
          "name": "stdout",
          "text": [
            "2\n"
          ]
        }
      ]
    },
    {
      "cell_type": "code",
      "source": [
        "# Write a program that reads a list of words from a variable, and then prints out the words that are palindromes (words that are the same forwards and backwards).\n",
        "\n",
        "words = ['racecar', 'level', 'hello', 'wow']\n",
        "\n",
        "for word in words:\n",
        "  if word == word[::-1]:\n",
        "    print(word)\n",
        "  else:\n",
        "    print('nice')\n",
        "\n"
      ],
      "metadata": {
        "colab": {
          "base_uri": "https://localhost:8080/"
        },
        "id": "12UakLBIQ25C",
        "outputId": "a608018c-d70b-49e0-f930-08337a4a3681"
      },
      "execution_count": 14,
      "outputs": [
        {
          "output_type": "stream",
          "name": "stdout",
          "text": [
            "racecar\n",
            "level\n",
            "nice\n",
            "wow\n"
          ]
        }
      ]
    },
    {
      "cell_type": "code",
      "source": [
        "my_list = [1, 2, 3 , 4 , 5]\n",
        "my_list[::-1]"
      ],
      "metadata": {
        "colab": {
          "base_uri": "https://localhost:8080/"
        },
        "id": "eGzCCneLYOZw",
        "outputId": "4f16bc81-4bda-4fe1-f446-a32696e36d68"
      },
      "execution_count": 12,
      "outputs": [
        {
          "output_type": "execute_result",
          "data": {
            "text/plain": [
              "[5, 4, 3, 2, 1]"
            ]
          },
          "metadata": {},
          "execution_count": 12
        }
      ]
    },
    {
      "cell_type": "code",
      "source": [
        "# Write a program that uses range() to print all of the odd numbers from 1 to 10.\n",
        "\n",
        "for i in range(0, 11, 2):\n",
        "  print(i)"
      ],
      "metadata": {
        "colab": {
          "base_uri": "https://localhost:8080/"
        },
        "id": "gHhOAgXjS6tz",
        "outputId": "c87dff18-45f2-419a-ce1a-50b9176a83e0"
      },
      "execution_count": 16,
      "outputs": [
        {
          "output_type": "stream",
          "name": "stdout",
          "text": [
            "0\n",
            "2\n",
            "4\n",
            "6\n",
            "8\n",
            "10\n"
          ]
        }
      ]
    },
    {
      "cell_type": "code",
      "source": [
        "# Write a program that uses list comprehension to create a list of all the even numbers between 1 and 50.\n",
        "\n",
        "even_numbers = [i for i in range(2, 51, 2)]\n",
        "print(even_numbers)"
      ],
      "metadata": {
        "colab": {
          "base_uri": "https://localhost:8080/"
        },
        "id": "hMyUdOG8TOUM",
        "outputId": "de9f373c-2ccb-4f82-aabd-b9fbd0c949c7"
      },
      "execution_count": 17,
      "outputs": [
        {
          "output_type": "stream",
          "name": "stdout",
          "text": [
            "[2, 4, 6, 8, 10, 12, 14, 16, 18, 20, 22, 24, 26, 28, 30, 32, 34, 36, 38, 40, 42, 44, 46, 48, 50]\n"
          ]
        }
      ]
    },
    {
      "cell_type": "code",
      "source": [
        "# Go through the string below and if the length of a word is even print \"even!\"\n",
        "\n",
        "string = 'This is a string with some words'\n",
        "\n",
        "for word in string.split():\n",
        "  if len(word) % 2 == 0:\n",
        "    print('even!')\n",
        "  else:\n",
        "    print(word)\n"
      ],
      "metadata": {
        "colab": {
          "base_uri": "https://localhost:8080/"
        },
        "id": "ATespYKZTOWX",
        "outputId": "61148a4a-7e78-40dd-bf6b-68e6d7af9273"
      },
      "execution_count": 24,
      "outputs": [
        {
          "output_type": "stream",
          "name": "stdout",
          "text": [
            "even!\n",
            "even!\n",
            "a\n",
            "even!\n",
            "even!\n",
            "even!\n",
            "words\n"
          ]
        }
      ]
    },
    {
      "cell_type": "code",
      "source": [
        "my_st = 'my string num 1'\n",
        "my_st.split()\n"
      ],
      "metadata": {
        "colab": {
          "base_uri": "https://localhost:8080/"
        },
        "id": "AtImsEvObHYn",
        "outputId": "a75dd0cf-f057-4d09-a606-47ca6edc5f11"
      },
      "execution_count": 23,
      "outputs": [
        {
          "output_type": "execute_result",
          "data": {
            "text/plain": [
              "['my', 'string', 'num', '1']"
            ]
          },
          "metadata": {},
          "execution_count": 23
        }
      ]
    },
    {
      "cell_type": "code",
      "source": [
        "# Write a program that prints the integers from 1 to 100. But for multiples of three print \"Fizz\" instead of the number, and for the multiples of five print \"Buzz\". \n",
        "# For numbers which are multiples of both three and five print \"FizzBuzz\".\n",
        "\n",
        "for i in range(1, 101):\n",
        "  if i % 3 == 0 and i % 5 == 0:\n",
        "    print('FizzBuzz')\n",
        "  elif i % 3 == 0:\n",
        "    print('Fizz')\n",
        "  elif i % 5 == 0:\n",
        "    print('Buzz')\n",
        "  else:\n",
        "    print(i)\n"
      ],
      "metadata": {
        "colab": {
          "base_uri": "https://localhost:8080/"
        },
        "id": "KUsG5R82TOZE",
        "outputId": "bd5cbe88-e184-487b-f29b-5859120b005d"
      },
      "execution_count": 25,
      "outputs": [
        {
          "output_type": "stream",
          "name": "stdout",
          "text": [
            "1\n",
            "2\n",
            "Fizz\n",
            "4\n",
            "Buzz\n",
            "Fizz\n",
            "7\n",
            "8\n",
            "Fizz\n",
            "Buzz\n",
            "11\n",
            "Fizz\n",
            "13\n",
            "14\n",
            "FizzBuzz\n",
            "16\n",
            "17\n",
            "Fizz\n",
            "19\n",
            "Buzz\n",
            "Fizz\n",
            "22\n",
            "23\n",
            "Fizz\n",
            "Buzz\n",
            "26\n",
            "Fizz\n",
            "28\n",
            "29\n",
            "FizzBuzz\n",
            "31\n",
            "32\n",
            "Fizz\n",
            "34\n",
            "Buzz\n",
            "Fizz\n",
            "37\n",
            "38\n",
            "Fizz\n",
            "Buzz\n",
            "41\n",
            "Fizz\n",
            "43\n",
            "44\n",
            "FizzBuzz\n",
            "46\n",
            "47\n",
            "Fizz\n",
            "49\n",
            "Buzz\n",
            "Fizz\n",
            "52\n",
            "53\n",
            "Fizz\n",
            "Buzz\n",
            "56\n",
            "Fizz\n",
            "58\n",
            "59\n",
            "FizzBuzz\n",
            "61\n",
            "62\n",
            "Fizz\n",
            "64\n",
            "Buzz\n",
            "Fizz\n",
            "67\n",
            "68\n",
            "Fizz\n",
            "Buzz\n",
            "71\n",
            "Fizz\n",
            "73\n",
            "74\n",
            "FizzBuzz\n",
            "76\n",
            "77\n",
            "Fizz\n",
            "79\n",
            "Buzz\n",
            "Fizz\n",
            "82\n",
            "83\n",
            "Fizz\n",
            "Buzz\n",
            "86\n",
            "Fizz\n",
            "88\n",
            "89\n",
            "FizzBuzz\n",
            "91\n",
            "92\n",
            "Fizz\n",
            "94\n",
            "Buzz\n",
            "Fizz\n",
            "97\n",
            "98\n",
            "Fizz\n",
            "Buzz\n"
          ]
        }
      ]
    },
    {
      "cell_type": "code",
      "source": [
        "# Alternative solution using list comprehension:\n",
        "\n",
        "result = ['FizzBuzz' if i % 3 == 0 and i % 5 == 0 else 'Fizz' if i % 3 == 0 else 'Buzz' if i % 5 == 0 else i for i in range(1, 101)]\n",
        "print(result)\n"
      ],
      "metadata": {
        "id": "R-uyBr8ZTObP"
      },
      "execution_count": 4,
      "outputs": []
    },
    {
      "cell_type": "code",
      "source": [
        "# Write a program that uses list comprehension to create a list of all the words in the string that have more than 3 letters.\n",
        "\n",
        "string = 'This is a string with some words'\n",
        "\n",
        "long_words = [word for word in string.split() if len(word) > 3]\n",
        "print(long_words)\n"
      ],
      "metadata": {
        "colab": {
          "base_uri": "https://localhost:8080/"
        },
        "id": "32Pl6FUdTOdo",
        "outputId": "a7f7531c-6025-42ae-ce2e-96489f5b24f0"
      },
      "execution_count": 29,
      "outputs": [
        {
          "output_type": "stream",
          "name": "stdout",
          "text": [
            "['This', 'string', 'with', 'some', 'words']\n"
          ]
        }
      ]
    },
    {
      "cell_type": "code",
      "source": [
        "# Alternative solution using for loop and if statement\n",
        "\n",
        "string = 'This is a string with some words'\n",
        "\n",
        "long_words = []\n",
        "for word in string.split():\n",
        "  if len(word) > 3:\n",
        "    long_words.append(word)\n",
        "\n",
        "print(long_words)\n",
        "\n"
      ],
      "metadata": {
        "colab": {
          "base_uri": "https://localhost:8080/"
        },
        "id": "CWzsRCUUTOgJ",
        "outputId": "70af8a0c-ae0c-423b-d78c-6d04ec0ecc1a"
      },
      "execution_count": 28,
      "outputs": [
        {
          "output_type": "stream",
          "name": "stdout",
          "text": [
            "['This', 'string', 'with', 'some', 'words']\n"
          ]
        }
      ]
    }
  ]
}