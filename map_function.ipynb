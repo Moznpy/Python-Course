{
  "nbformat": 4,
  "nbformat_minor": 0,
  "metadata": {
    "colab": {
      "provenance": [],
      "authorship_tag": "ABX9TyOYF0hTGd5smq+7+sa2pXDG",
      "include_colab_link": true
    },
    "kernelspec": {
      "name": "python3",
      "display_name": "Python 3"
    },
    "language_info": {
      "name": "python"
    }
  },
  "cells": [
    {
      "cell_type": "markdown",
      "metadata": {
        "id": "view-in-github",
        "colab_type": "text"
      },
      "source": [
        "<a href=\"https://colab.research.google.com/github/Moznpy/Python-Course/blob/main/map_function.ipynb\" target=\"_parent\"><img src=\"https://colab.research.google.com/assets/colab-badge.svg\" alt=\"Open In Colab\"/></a>"
      ]
    },
    {
      "cell_type": "code",
      "execution_count": 2,
      "metadata": {
        "id": "BVXEuInoVCzK"
      },
      "outputs": [],
      "source": [
        "# The map() function in Python applies a given function to each item of an input list and returns an iterator of the results. \n",
        "# The function is applied to each item of the list, one at a time, and the results are returned as a new iterator."
      ]
    },
    {
      "cell_type": "code",
      "source": [
        "# Here's an example of using map() to square the numbers in a list:\n",
        "\n",
        "def square(x):\n",
        "    return x**2\n",
        "\n",
        "numbers = [1, 2, 3, 4, 5]\n",
        "\n",
        "\n",
        "list(map(square, numbers))\n",
        "\n",
        "\n",
        "\n",
        "\n",
        "\n",
        "\n",
        "\n",
        "\n",
        "\n",
        "\n",
        "\n",
        "\n",
        "\n"
      ],
      "metadata": {
        "colab": {
          "base_uri": "https://localhost:8080/"
        },
        "id": "8N22WnzrXoL7",
        "outputId": "e86d9878-56ae-4fd1-f282-69877122ad02"
      },
      "execution_count": 34,
      "outputs": [
        {
          "output_type": "execute_result",
          "data": {
            "text/plain": [
              "[1, 4, 9, 16, 25]"
            ]
          },
          "metadata": {},
          "execution_count": 34
        }
      ]
    },
    {
      "cell_type": "code",
      "source": [
        "# Another example would be taking a list of string and converting them to upper case.\n",
        "\n",
        "def upper_case(n):\n",
        "    return n.upper()\n",
        "\n",
        "string_list = ['hello', 'world']\n",
        "\n",
        "list(map(upper_case, string_list)) \n",
        "\n",
        "\n"
      ],
      "metadata": {
        "colab": {
          "base_uri": "https://localhost:8080/"
        },
        "id": "6omL3INzZDLW",
        "outputId": "5ceb7e90-e290-4025-8339-95054a965b80"
      },
      "execution_count": 41,
      "outputs": [
        {
          "output_type": "execute_result",
          "data": {
            "text/plain": [
              "['HELLO', 'WORLD']"
            ]
          },
          "metadata": {},
          "execution_count": 41
        }
      ]
    },
    {
      "cell_type": "code",
      "source": [],
      "metadata": {
        "id": "ra4SibbcZDUD"
      },
      "execution_count": null,
      "outputs": []
    }
  ]
}