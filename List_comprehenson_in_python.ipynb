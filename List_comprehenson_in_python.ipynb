{
  "nbformat": 4,
  "nbformat_minor": 0,
  "metadata": {
    "colab": {
      "provenance": [],
      "authorship_tag": "ABX9TyMUJwDxo5xoiH82/Iaw8gMa",
      "include_colab_link": true
    },
    "kernelspec": {
      "name": "python3",
      "display_name": "Python 3"
    },
    "language_info": {
      "name": "python"
    }
  },
  "cells": [
    {
      "cell_type": "markdown",
      "metadata": {
        "id": "view-in-github",
        "colab_type": "text"
      },
      "source": [
        "<a href=\"https://colab.research.google.com/github/Moznpy/Python-Course/blob/main/List_comprehenson_in_python.ipynb\" target=\"_parent\"><img src=\"https://colab.research.google.com/assets/colab-badge.svg\" alt=\"Open In Colab\"/></a>"
      ]
    },
    {
      "cell_type": "code",
      "execution_count": 6,
      "metadata": {
        "colab": {
          "base_uri": "https://localhost:8080/"
        },
        "id": "Us7TKJhyzJ-P",
        "outputId": "e3eceb0e-69e7-4b05-e584-f4730ac9b641"
      },
      "outputs": [
        {
          "output_type": "stream",
          "name": "stdout",
          "text": [
            "['h', 'e', 'l', 'l', 'o']\n"
          ]
        }
      ],
      "source": [
        "# List comprehension is a concise way to create a list. It reads like a sentence: \"create a list of x for each y in z.\"\n",
        "\n",
        "# Here is a simple example:\n",
        "\n",
        "\n",
        "word = 'hello'\n",
        "letters = [letter for letter in word]\n",
        "print(letters) "
      ]
    },
    {
      "cell_type": "code",
      "source": [
        "# Here is an example of using list comprehension to create a list of the lengths of a list of strings:\n",
        "\n",
        "strings = ['cat', 'window', 'defenestrate']\n",
        "lengths = [len(x) for x in strings ]\n",
        "print(lengths)  # [3, 6, 12]\n"
      ],
      "metadata": {
        "colab": {
          "base_uri": "https://localhost:8080/"
        },
        "id": "uXNp5xeI3B9Z",
        "outputId": "0b4782eb-a80b-45f1-fb55-7bf3910a724f"
      },
      "execution_count": 10,
      "outputs": [
        {
          "output_type": "stream",
          "name": "stdout",
          "text": [
            "[3, 6, 12]\n"
          ]
        }
      ]
    },
    {
      "cell_type": "code",
      "source": [
        "# You can also use list comprehension to create a list of the lengths of a list of strings that meet a certain condition:\n",
        "\n",
        "strings = ['cat', 'window', 'defenestrate']\n",
        "short_strings = [x for x in strings if len(x) < 7]\n",
        "print(short_strings) \n"
      ],
      "metadata": {
        "colab": {
          "base_uri": "https://localhost:8080/"
        },
        "id": "x9B_N0Mv3M-6",
        "outputId": "9ee04696-c618-40ce-9c47-5c5a294dec46"
      },
      "execution_count": 14,
      "outputs": [
        {
          "output_type": "stream",
          "name": "stdout",
          "text": [
            "['cat', 'window']\n"
          ]
        }
      ]
    },
    {
      "cell_type": "code",
      "source": [
        "numbers = [1, 2, 3, 4]\n",
        "squares = [x**2 for x in numbers]\n",
        "print(squares)\n"
      ],
      "metadata": {
        "colab": {
          "base_uri": "https://localhost:8080/"
        },
        "id": "oaGi2ySJ2oUs",
        "outputId": "ab44a9dd-caf1-444d-865b-82ac8ed62c6d"
      },
      "execution_count": 17,
      "outputs": [
        {
          "output_type": "stream",
          "name": "stdout",
          "text": [
            "[1, 4, 9, 16]\n"
          ]
        }
      ]
    },
    {
      "cell_type": "code",
      "source": [
        "# You can also add an if clause to filter the elements of the list. For example:\n",
        "\n",
        "numbers = [1, 2, 3, 4]\n",
        "even_squares = [x ** 2 for x in numbers if x % 2 == 0]\n",
        "print(even_squares)\n"
      ],
      "metadata": {
        "colab": {
          "base_uri": "https://localhost:8080/"
        },
        "id": "AfnDxSxx2vii",
        "outputId": "6d37a797-7d5f-4aa8-e165-b69210dcc96f"
      },
      "execution_count": 18,
      "outputs": [
        {
          "output_type": "stream",
          "name": "stdout",
          "text": [
            "[4, 16]\n"
          ]
        }
      ]
    }
  ]
}