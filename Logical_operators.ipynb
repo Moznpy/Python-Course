{
  "nbformat": 4,
  "nbformat_minor": 0,
  "metadata": {
    "colab": {
      "provenance": [],
      "authorship_tag": "ABX9TyNjtSOoGqXNskQ/j8b/hnON",
      "include_colab_link": true
    },
    "kernelspec": {
      "name": "python3",
      "display_name": "Python 3"
    },
    "language_info": {
      "name": "python"
    }
  },
  "cells": [
    {
      "cell_type": "markdown",
      "metadata": {
        "id": "view-in-github",
        "colab_type": "text"
      },
      "source": [
        "<a href=\"https://colab.research.google.com/github/Moznpy/Python-Course/blob/main/Logical_operators.ipynb\" target=\"_parent\"><img src=\"https://colab.research.google.com/assets/colab-badge.svg\" alt=\"Open In Colab\"/></a>"
      ]
    },
    {
      "cell_type": "code",
      "execution_count": null,
      "metadata": {
        "id": "G3mPV2-nyV_M"
      },
      "outputs": [],
      "source": [
        "# In Python, logical operators are used to perform logical operations on the values of two objects and return a Boolean value indicating the result of the operation.\n",
        "# Here are the logical operators in Python, along with some examples of their usage:\n",
        "\n"
      ]
    },
    {
      "cell_type": "code",
      "source": [
        "# and: This operator returns True if both of the values on either side of it are True, and False otherwise. For example:\n",
        "\n",
        "5 == 1 and 2 == 9"
      ],
      "metadata": {
        "colab": {
          "base_uri": "https://localhost:8080/"
        },
        "id": "mW27TH5JylHU",
        "outputId": "31908bfc-86eb-488a-881d-392d1fdfbd1c"
      },
      "execution_count": 6,
      "outputs": [
        {
          "output_type": "execute_result",
          "data": {
            "text/plain": [
              "False"
            ]
          },
          "metadata": {},
          "execution_count": 6
        }
      ]
    },
    {
      "cell_type": "code",
      "source": [
        "# or: This operator returns True if at least one of the values on either side of it is True, and False otherwise. For example:\n",
        "\n",
        "1 == 9 or 2 == 6"
      ],
      "metadata": {
        "colab": {
          "base_uri": "https://localhost:8080/"
        },
        "id": "GOw_qihOylOt",
        "outputId": "e3df4ff8-1750-4224-9e4c-a60950f6f15d"
      },
      "execution_count": 10,
      "outputs": [
        {
          "output_type": "execute_result",
          "data": {
            "text/plain": [
              "False"
            ]
          },
          "metadata": {},
          "execution_count": 10
        }
      ]
    },
    {
      "cell_type": "code",
      "source": [
        "# not: This operator returns the opposite of the value on the right side of it. For example:"
      ],
      "metadata": {
        "id": "l1-1_-s_ylRO"
      },
      "execution_count": null,
      "outputs": []
    },
    {
      "cell_type": "code",
      "source": [
        "# not 1  ==  1\n",
        "\n",
        "not (\"a\"  ==  \"g\")"
      ],
      "metadata": {
        "colab": {
          "base_uri": "https://localhost:8080/"
        },
        "id": "wRAnFrNFylUZ",
        "outputId": "4d5a29ff-9fdc-4e98-84b1-b5dc22f77d0e"
      },
      "execution_count": 15,
      "outputs": [
        {
          "output_type": "execute_result",
          "data": {
            "text/plain": [
              "True"
            ]
          },
          "metadata": {},
          "execution_count": 15
        }
      ]
    }
  ]
}