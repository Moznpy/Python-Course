{
  "nbformat": 4,
  "nbformat_minor": 0,
  "metadata": {
    "colab": {
      "provenance": [],
      "authorship_tag": "ABX9TyPsFsawcwu7rG8n4rexCLOM",
      "include_colab_link": true
    },
    "kernelspec": {
      "name": "python3",
      "display_name": "Python 3"
    },
    "language_info": {
      "name": "python"
    }
  },
  "cells": [
    {
      "cell_type": "markdown",
      "metadata": {
        "id": "view-in-github",
        "colab_type": "text"
      },
      "source": [
        "<a href=\"https://colab.research.google.com/github/Moznpy/Python-Course/blob/main/Filter_function.ipynb\" target=\"_parent\"><img src=\"https://colab.research.google.com/assets/colab-badge.svg\" alt=\"Open In Colab\"/></a>"
      ]
    },
    {
      "cell_type": "code",
      "execution_count": null,
      "metadata": {
        "id": "8Sno-hWcdarp"
      },
      "outputs": [],
      "source": [
        "# The filter() function in Python is used to filter a sequence of elements, such as a list, \n",
        "# by applying a given function to each element and returning only the elements for which the function returns True."
      ]
    },
    {
      "cell_type": "code",
      "source": [
        "# Here's an example of using filter() to get only the even numbers from a list:\n",
        "\n",
        "def is_even(x):\n",
        "    return x % 2 == 0\n",
        "\n",
        "numbers = [1, 2, 3, 4, 5]\n",
        "\n",
        "\n",
        "list(filter(is_even, numbers))\n",
        "\n",
        "\n"
      ],
      "metadata": {
        "colab": {
          "base_uri": "https://localhost:8080/"
        },
        "id": "84PzmoYEdj4M",
        "outputId": "140fe077-2607-4e28-e37c-29635befa309"
      },
      "execution_count": 13,
      "outputs": [
        {
          "output_type": "execute_result",
          "data": {
            "text/plain": [
              "[2, 4]"
            ]
          },
          "metadata": {},
          "execution_count": 13
        }
      ]
    },
    {
      "cell_type": "code",
      "source": [
        "# Another example would be to filter out all the words that contain 'e'\n",
        "\n",
        "def filter_e(x):\n",
        "    return 'e'  in x\n",
        "\n",
        "string_list = ['hello', 'world', 'goodbye']\n",
        "list(filter(filter_e, string_list))\n",
        "\n",
        "\n",
        "\n"
      ],
      "metadata": {
        "colab": {
          "base_uri": "https://localhost:8080/"
        },
        "id": "FgQle8y9d3Dj",
        "outputId": "d8fad2ab-3f94-4375-d7dc-dc5405a40d83"
      },
      "execution_count": 15,
      "outputs": [
        {
          "output_type": "execute_result",
          "data": {
            "text/plain": [
              "['hello', 'goodbye']"
            ]
          },
          "metadata": {},
          "execution_count": 15
        }
      ]
    }
  ]
}