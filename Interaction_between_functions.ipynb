{
  "nbformat": 4,
  "nbformat_minor": 0,
  "metadata": {
    "colab": {
      "provenance": [],
      "authorship_tag": "ABX9TyPPiktYHbrwfoNUEBxehwMQ",
      "include_colab_link": true
    },
    "kernelspec": {
      "name": "python3",
      "display_name": "Python 3"
    },
    "language_info": {
      "name": "python"
    }
  },
  "cells": [
    {
      "cell_type": "markdown",
      "metadata": {
        "id": "view-in-github",
        "colab_type": "text"
      },
      "source": [
        "<a href=\"https://colab.research.google.com/github/Moznpy/Python-Course/blob/main/Interaction_between_functions.ipynb\" target=\"_parent\"><img src=\"https://colab.research.google.com/assets/colab-badge.svg\" alt=\"Open In Colab\"/></a>"
      ]
    },
    {
      "cell_type": "code",
      "execution_count": 1,
      "metadata": {
        "id": "eKhP_h_Y7uCA"
      },
      "outputs": [],
      "source": [
        "# Interactions between functions is a key concept in programming, and is essential for writing modular and efficient code. \n",
        "# There are several ways in which functions can interact in Python. Here are a few examples:"
      ]
    },
    {
      "cell_type": "code",
      "source": [
        "def add(x,y,z):\n",
        "  return x + y + z\n",
        "\n",
        "add(2,5,7)"
      ],
      "metadata": {
        "colab": {
          "base_uri": "https://localhost:8080/"
        },
        "id": "DybP5tmgTRry",
        "outputId": "72a746f6-86d2-4896-a94f-e816f3e59951"
      },
      "execution_count": 42,
      "outputs": [
        {
          "output_type": "execute_result",
          "data": {
            "text/plain": [
              "14"
            ]
          },
          "metadata": {},
          "execution_count": 42
        }
      ]
    },
    {
      "cell_type": "code",
      "source": [
        "# Functions can return multiple values using tuple packing:\n",
        "# In this example, the min_max function returns a tuple containing the minimum and maximum values from a list of numbers. \n",
        "# The tuple is then unpacked into separate variables minimum and maximum.\n",
        "\n",
        "\n",
        "def min_max(numbers):\n",
        "  return min(numbers), max(numbers)\n",
        "\n",
        "min_max([1,3,7,8,4])\n",
        "\n",
        "\n",
        "\n",
        "\n",
        "minimum, maximum = min_max([1, 2, 3, 4, 5])\n",
        "print(f\"Minimum: {minimum}, Maximum: {maximum}\")\n"
      ],
      "metadata": {
        "colab": {
          "base_uri": "https://localhost:8080/"
        },
        "id": "JBq80cgYF-MH",
        "outputId": "21484eec-8ce5-41ec-c6a2-ca3240a605f1"
      },
      "execution_count": 46,
      "outputs": [
        {
          "output_type": "stream",
          "name": "stdout",
          "text": [
            "Minimum: 1, Maximum: 5\n"
          ]
        }
      ]
    },
    {
      "cell_type": "code",
      "source": [
        "# Functions can call other functions:\n",
        "# In this example, the greet_everyone function calls the greet function for each name in a list of names.\n",
        "\n",
        "def greet(name):\n",
        "  print(f\"Hello, {name}!\")\n",
        "\n",
        "def greet_everyone(names):\n",
        "  for name in names:\n",
        "    greet(name)\n",
        "\n",
        "greet_everyone([\"Alice\", \"Bob\", \"Eve\"])\n",
        "\n",
        "\n"
      ],
      "metadata": {
        "colab": {
          "base_uri": "https://localhost:8080/"
        },
        "id": "zK2BeZrXCB6u",
        "outputId": "e97b8ec7-0cd9-4816-b2d4-16b856d9dd9f"
      },
      "execution_count": 47,
      "outputs": [
        {
          "output_type": "stream",
          "name": "stdout",
          "text": [
            "Hello, Alice!\n",
            "Hello, Bob!\n",
            "Hello, Eve!\n"
          ]
        }
      ]
    },
    {
      "cell_type": "code",
      "source": [
        "# Functions can return values:\n",
        "# In this example, the add function returns the sum of its arguments, which is then passed as an argument to the multiply function. \n",
        "# The multiply function returns the product, which is then printed to the console.\n",
        "\n",
        "def add(x, y):\n",
        "  return x + y\n",
        "\n",
        "\n",
        "def multiply(a, b):\n",
        "  return a * b\n",
        "\n",
        "multiply(2,add(2,6))\n",
        "\n",
        "# multiply(add(2, 3), 4)\n"
      ],
      "metadata": {
        "colab": {
          "base_uri": "https://localhost:8080/"
        },
        "id": "cZmivkigCHyU",
        "outputId": "d785ca04-d9b0-43a7-8c9d-5f3a2423816b"
      },
      "execution_count": 55,
      "outputs": [
        {
          "output_type": "execute_result",
          "data": {
            "text/plain": [
              "16"
            ]
          },
          "metadata": {},
          "execution_count": 55
        }
      ]
    },
    {
      "cell_type": "code",
      "source": [
        "# Functions can be passed as arguments to other functions:\n",
        "# In this example, the apply_operation function takes two arguments, x and y, and a function operation.\n",
        "# It then calls the operation function with x and y as arguments and returns the result.\n",
        "\n",
        "def apply_operation(a, b, operation):\n",
        "  return operation(a, b)\n",
        "\n",
        "def add(x, y):\n",
        "  return x + y\n",
        "\n",
        "def multiply(x, y):\n",
        "  return x * y\n",
        "\n",
        "\n",
        "# Examples: \n",
        "\n",
        "# apply_operation(2, 3, multiply)  \n",
        "\n",
        "\n",
        "apply_operation(2, 3, add)  \n",
        "\n",
        "\n",
        "\n"
      ],
      "metadata": {
        "colab": {
          "base_uri": "https://localhost:8080/"
        },
        "id": "vi1fXT-HC2hk",
        "outputId": "2d22c07d-4e2b-41e1-f894-cff9a1feec1f"
      },
      "execution_count": 65,
      "outputs": [
        {
          "output_type": "execute_result",
          "data": {
            "text/plain": [
              "5"
            ]
          },
          "metadata": {},
          "execution_count": 65
        }
      ]
    },
    {
      "cell_type": "code",
      "source": [],
      "metadata": {
        "id": "AEtNibK_Y5qU"
      },
      "execution_count": null,
      "outputs": []
    }
  ]
}