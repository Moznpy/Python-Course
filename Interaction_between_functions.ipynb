{
  "nbformat": 4,
  "nbformat_minor": 0,
  "metadata": {
    "colab": {
      "provenance": [],
      "authorship_tag": "ABX9TyNWmdL7FTd0p+Bx2wLDSdfT",
      "include_colab_link": true
    },
    "kernelspec": {
      "name": "python3",
      "display_name": "Python 3"
    },
    "language_info": {
      "name": "python"
    }
  },
  "cells": [
    {
      "cell_type": "markdown",
      "metadata": {
        "id": "view-in-github",
        "colab_type": "text"
      },
      "source": [
        "<a href=\"https://colab.research.google.com/github/Moznpy/Python-Course/blob/main/Interaction_between_functions.ipynb\" target=\"_parent\"><img src=\"https://colab.research.google.com/assets/colab-badge.svg\" alt=\"Open In Colab\"/></a>"
      ]
    },
    {
      "cell_type": "code",
      "execution_count": 1,
      "metadata": {
        "id": "eKhP_h_Y7uCA"
      },
      "outputs": [],
      "source": [
        "# Interactions between functions is a key concept in programming, and is essential for writing modular and efficient code. \n",
        "# There are several ways in which functions can interact in Python. Here are a few examples:"
      ]
    },
    {
      "cell_type": "code",
      "source": [
        "# Functions can call other functions:\n",
        "# In this example, the greet_everyone function calls the greet function for each name in a list of names.\n",
        "\n",
        "def greet(name):\n",
        "  print(f\"Hello, {name}!\")\n",
        "\n",
        "def greet_everyone(names):\n",
        "  for name in names:\n",
        "    greet(name)\n",
        "\n",
        "greet_everyone([\"Alice\", \"Bob\", \"Eve\"])\n",
        "\n",
        "\n"
      ],
      "metadata": {
        "id": "zK2BeZrXCB6u"
      },
      "execution_count": 20,
      "outputs": []
    },
    {
      "cell_type": "code",
      "source": [
        "# Functions can return values:\n",
        "# In this example, the add function returns the sum of its arguments, which is then passed as an argument to the multiply function. \n",
        "# The multiply function returns the product, which is then printed to the console.\n",
        "\n",
        "def add(x, y):\n",
        "  return x + y\n",
        "\n",
        "def multiply(x, y):\n",
        "  return x * y\n",
        "\n",
        "multiply(add(2, 3), 4)\n"
      ],
      "metadata": {
        "id": "cZmivkigCHyU"
      },
      "execution_count": null,
      "outputs": []
    },
    {
      "cell_type": "code",
      "source": [
        "# Functions can be passed as arguments to other functions:\n",
        "# In this example, the apply_operation function takes two arguments, x and y, and a function operation.\n",
        "# It then calls the operation function with x and y as arguments and returns the result.\n",
        "\n",
        "def apply_operation(a, b, operation):\n",
        "  return operation(a, b)\n",
        "\n",
        "def add(x, y):\n",
        "  return x + y\n",
        "\n",
        "def multiply(x, y):\n",
        "  return x * y\n",
        "\n",
        "\n",
        "# Examples: \n",
        "\n",
        "apply_operation(2, 3, multiply)  \n",
        "\n",
        "\n",
        "apply_operation(2, 3, add)  \n",
        "\n",
        "\n",
        "\n"
      ],
      "metadata": {
        "id": "vi1fXT-HC2hk"
      },
      "execution_count": 14,
      "outputs": []
    },
    {
      "cell_type": "code",
      "source": [
        "# Functions can return multiple values using tuple packing:\n",
        "# In this example, the min_max function returns a tuple containing the minimum and maximum values from a list of numbers. \n",
        "# The tuple is then unpacked into separate variables minimum and maximum.\n",
        "\n",
        "\n",
        "def min_max(numbers):\n",
        "  return min(numbers), max(numbers)\n",
        "\n",
        "\n",
        "\n",
        "# minimum, maximum = min_max([1, 2, 3, 4, 5])\n",
        "# print(f\"Minimum: {minimum}, Maximum: {maximum}\")\n"
      ],
      "metadata": {
        "id": "JBq80cgYF-MH"
      },
      "execution_count": 31,
      "outputs": []
    }
  ]
}