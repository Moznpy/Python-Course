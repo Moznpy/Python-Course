{
  "nbformat": 4,
  "nbformat_minor": 0,
  "metadata": {
    "colab": {
      "provenance": [],
      "authorship_tag": "ABX9TyNXJhfoQa3JIcmbyRMQPWM0",
      "include_colab_link": true
    },
    "kernelspec": {
      "name": "python3",
      "display_name": "Python 3"
    },
    "language_info": {
      "name": "python"
    }
  },
  "cells": [
    {
      "cell_type": "markdown",
      "metadata": {
        "id": "view-in-github",
        "colab_type": "text"
      },
      "source": [
        "<a href=\"https://colab.research.google.com/github/Moznpy/Python-Course/blob/main/Comparison_operators_in_python.ipynb\" target=\"_parent\"><img src=\"https://colab.research.google.com/assets/colab-badge.svg\" alt=\"Open In Colab\"/></a>"
      ]
    },
    {
      "cell_type": "code",
      "execution_count": null,
      "metadata": {
        "id": "wArJjfBYt4R5"
      },
      "outputs": [],
      "source": [
        "# In Python, comparison operators are used to compare the values of two objects\n",
        "# and return a Boolean value indicating whether the comparison is True or False.\n",
        "# Here are the comparison operators in Python, along with some examples of their usage:"
      ]
    },
    {
      "cell_type": "code",
      "source": [
        "# ==: Equal to. This operator returns True if the values on either side of it are equal, and False if they are not. For example:\n",
        "\n",
        "x = 10\n",
        "y = 20\n",
        "z = 10\n",
        "\n",
        "# print(x == y)   # False\n",
        "# print(x == z)   # True\n",
        "\n",
        "\"Hello\"  == \"hello\"\n",
        "\n",
        "\"2\"  == 2\n",
        "\n"
      ],
      "metadata": {
        "colab": {
          "base_uri": "https://localhost:8080/"
        },
        "id": "BnT-zimUuZuK",
        "outputId": "a9977f7c-4f98-41e0-f883-8ba9b4248034"
      },
      "execution_count": 18,
      "outputs": [
        {
          "output_type": "execute_result",
          "data": {
            "text/plain": [
              "False"
            ]
          },
          "metadata": {},
          "execution_count": 18
        }
      ]
    },
    {
      "cell_type": "code",
      "source": [
        "# !=: Not equal to. This operator returns True if the values on either side of it are not equal, and False if they are equal. For example:\n",
        "\n",
        "x = 10\n",
        "y = 20\n",
        "z = 10\n",
        "\n",
        "print(x != y)   # True\n",
        "print(x != z)   # False\n",
        "\n"
      ],
      "metadata": {
        "colab": {
          "base_uri": "https://localhost:8080/"
        },
        "id": "JJN5awOrugH_",
        "outputId": "30fda7d3-3e69-47e5-fc3a-7d384e453134"
      },
      "execution_count": 10,
      "outputs": [
        {
          "output_type": "stream",
          "name": "stdout",
          "text": [
            "True\n",
            "False\n"
          ]
        }
      ]
    },
    {
      "cell_type": "code",
      "source": [
        "# >: Greater than. This operator returns True if the value on the left side is greater than the value on the right side, and False if it is not. For example:\n",
        "\n",
        "x = 10\n",
        "y = 20\n",
        "z = 10\n",
        "\n",
        "print(x > y)   # False\n",
        "print(y > x)   # True\n",
        "print(x > z)   # False\n"
      ],
      "metadata": {
        "colab": {
          "base_uri": "https://localhost:8080/"
        },
        "id": "XkioIAI2ugKd",
        "outputId": "a7ad17b4-204e-42e8-b940-57df012d071a"
      },
      "execution_count": 11,
      "outputs": [
        {
          "output_type": "stream",
          "name": "stdout",
          "text": [
            "False\n",
            "True\n",
            "False\n"
          ]
        }
      ]
    },
    {
      "cell_type": "code",
      "source": [
        "# <: Less than. This operator returns True if the value on the left side is less than the value on the right side, and False if it is not. For example:\n",
        "\n",
        "x = 10\n",
        "y = 20\n",
        "z = 10\n",
        "\n",
        "print(x < y)   # True\n",
        "print(y < x)   # False\n",
        "print(x < z)   # False\n"
      ],
      "metadata": {
        "colab": {
          "base_uri": "https://localhost:8080/"
        },
        "id": "mgq7ngLZugNB",
        "outputId": "9bce0291-b2bd-4407-f705-76bb823c4ff4"
      },
      "execution_count": 12,
      "outputs": [
        {
          "output_type": "stream",
          "name": "stdout",
          "text": [
            "True\n",
            "False\n",
            "False\n"
          ]
        }
      ]
    },
    {
      "cell_type": "code",
      "source": [
        "# >=: Greater than or equal to. This operator returns True \n",
        "# if the value on the left side is greater than or equal to the value on the right side, and False if it is not. For example:\n",
        "\n",
        "x = 10\n",
        "y = 20\n",
        "z = 10\n",
        "\n",
        "print(x >= y)   # False\n",
        "print(y >= x)   # True\n",
        "print(x >= z)   # True\n"
      ],
      "metadata": {
        "colab": {
          "base_uri": "https://localhost:8080/"
        },
        "id": "imMXAvZZu75j",
        "outputId": "bcbe84ba-e11b-466b-cf62-2601525e6261"
      },
      "execution_count": 13,
      "outputs": [
        {
          "output_type": "stream",
          "name": "stdout",
          "text": [
            "False\n",
            "True\n",
            "True\n"
          ]
        }
      ]
    },
    {
      "cell_type": "code",
      "source": [
        "# <=: Less than or equal to. This operator returns True if the value on the left side is less than or equal to the value on the right side, and False if it is not. For example:\n",
        "\n",
        "x = 10\n",
        "y = 20\n",
        "z = 10\n",
        "\n",
        "print(x <= y)   # True\n",
        "print(y <= x)   # False\n",
        "print(x <= z)   # True\n"
      ],
      "metadata": {
        "colab": {
          "base_uri": "https://localhost:8080/"
        },
        "id": "hWPzcFYIu78H",
        "outputId": "e405d936-e784-4b2a-8039-fb01b47e1e7a"
      },
      "execution_count": 14,
      "outputs": [
        {
          "output_type": "stream",
          "name": "stdout",
          "text": [
            "True\n",
            "False\n",
            "True\n"
          ]
        }
      ]
    },
    {
      "cell_type": "code",
      "source": [],
      "metadata": {
        "id": "cNVgphmEu7-g"
      },
      "execution_count": null,
      "outputs": []
    }
  ]
}