{
  "nbformat": 4,
  "nbformat_minor": 0,
  "metadata": {
    "colab": {
      "provenance": [],
      "authorship_tag": "ABX9TyMb1z1E/VQw65XWkHRI2NOp",
      "include_colab_link": true
    },
    "kernelspec": {
      "name": "python3",
      "display_name": "Python 3"
    },
    "language_info": {
      "name": "python"
    }
  },
  "cells": [
    {
      "cell_type": "markdown",
      "metadata": {
        "id": "view-in-github",
        "colab_type": "text"
      },
      "source": [
        "<a href=\"https://colab.research.google.com/github/Moznpy/Python-Course/blob/main/Functions_in_Python_Part_2.ipynb\" target=\"_parent\"><img src=\"https://colab.research.google.com/assets/colab-badge.svg\" alt=\"Open In Colab\"/></a>"
      ]
    },
    {
      "cell_type": "code",
      "source": [
        "# In Python, a function is a block of code that performs a specific task. \n",
        "# You can define your own functions to reuse code and make your programs more organized and easier to read and maintain.\n",
        "\n",
        "# To use a function, you first need to define it. Here is an example of how to define a function in Python:\n",
        "\n",
        "def greet(name):\n",
        "  print(\"Hello, \" + name)\n",
        "\n",
        "\n",
        "\n",
        "\n",
        "# To define a function, you need to \n",
        "\n",
        "# 1- specify the name of the function and \n",
        "# 2 - the arguments it takes. \n",
        "# 3 - The function definition should also include a colon\n",
        "# 4 - a block of indented code that specifies what the function does."
      ],
      "metadata": {
        "id": "Uckep-y2dtUU"
      },
      "execution_count": 58,
      "outputs": []
    },
    {
      "cell_type": "code",
      "source": [
        "# To call the function, you simply use the function name followed by a set of parentheses, like this:\n",
        "\n",
        "greet(\"Mozn\")"
      ],
      "metadata": {
        "colab": {
          "base_uri": "https://localhost:8080/"
        },
        "id": "XNULse9Ff1T3",
        "outputId": "28e244e5-40ee-409a-e7a9-9db9673f31db"
      },
      "execution_count": 61,
      "outputs": [
        {
          "output_type": "stream",
          "name": "stdout",
          "text": [
            "Hello, Mozn\n"
          ]
        }
      ]
    },
    {
      "cell_type": "code",
      "source": [
        "# Functions can also return a value. For example:\n",
        "\n",
        "def add(a, b):\n",
        "  return a + b\n",
        "\n",
        "add(6, 5)\n",
        "\n",
        "\n"
      ],
      "metadata": {
        "colab": {
          "base_uri": "https://localhost:8080/"
        },
        "id": "neVGMlX9gAUp",
        "outputId": "a9627ac1-9a07-4e67-ac3c-d0204b174372"
      },
      "execution_count": 64,
      "outputs": [
        {
          "output_type": "execute_result",
          "data": {
            "text/plain": [
              "11"
            ]
          },
          "metadata": {},
          "execution_count": 64
        }
      ]
    },
    {
      "cell_type": "code",
      "source": [
        "# Here is an example of a simple function that takes in a single argument and returns the square of that argument:\n",
        "\n",
        "def square(x):\n",
        "  return x * x\n",
        "square(5)"
      ],
      "metadata": {
        "colab": {
          "base_uri": "https://localhost:8080/"
        },
        "id": "AoXquylekkya",
        "outputId": "4ab423e3-2e1e-4147-bca6-302e5e1037a4"
      },
      "execution_count": 71,
      "outputs": [
        {
          "output_type": "execute_result",
          "data": {
            "text/plain": [
              "25"
            ]
          },
          "metadata": {},
          "execution_count": 71
        }
      ]
    },
    {
      "cell_type": "code",
      "source": [
        "# Functions can have multiple arguments. For example:\n",
        "\n",
        "def add(a, b, c):\n",
        "  return a + b + c\n",
        "\n",
        "add(1, 5, 8)\n"
      ],
      "metadata": {
        "colab": {
          "base_uri": "https://localhost:8080/"
        },
        "id": "Jkxh8Om4iu7G",
        "outputId": "0339ad02-4d12-477f-bed8-c49797be92c6"
      },
      "execution_count": 72,
      "outputs": [
        {
          "output_type": "execute_result",
          "data": {
            "text/plain": [
              "14"
            ]
          },
          "metadata": {},
          "execution_count": 72
        }
      ]
    },
    {
      "cell_type": "code",
      "source": [
        "# Functions can have default arguments. \n",
        "# This means that if you don't provide a value for that argument when calling the function, it will use the default value. For example:\n",
        "\n",
        "def greet(name, greeting=\"Hello\"):\n",
        "  return (greeting + \", \" + name)\n",
        "\n",
        "print(greet(\"Alice\"))\n",
        "print(greet(\"Bob\", \"Hi\"))"
      ],
      "metadata": {
        "colab": {
          "base_uri": "https://localhost:8080/"
        },
        "id": "4F1pCwjZi7xy",
        "outputId": "c1bfa0cf-ddef-4c20-8de3-5dc728e4a09c"
      },
      "execution_count": 9,
      "outputs": [
        {
          "output_type": "stream",
          "name": "stdout",
          "text": [
            "Hello, Alice\n",
            "Hi, Bob\n"
          ]
        }
      ]
    }
  ]
}