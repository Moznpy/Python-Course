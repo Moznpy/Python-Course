{
  "nbformat": 4,
  "nbformat_minor": 0,
  "metadata": {
    "colab": {
      "provenance": [],
      "authorship_tag": "ABX9TyMMZfxuT3HzNq3DpdlwFL16",
      "include_colab_link": true
    },
    "kernelspec": {
      "name": "python3",
      "display_name": "Python 3"
    },
    "language_info": {
      "name": "python"
    }
  },
  "cells": [
    {
      "cell_type": "markdown",
      "metadata": {
        "id": "view-in-github",
        "colab_type": "text"
      },
      "source": [
        "<a href=\"https://colab.research.google.com/github/Moznpy/Python-Course/blob/main/OOP_Methods.ipynb\" target=\"_parent\"><img src=\"https://colab.research.google.com/assets/colab-badge.svg\" alt=\"Open In Colab\"/></a>"
      ]
    },
    {
      "cell_type": "code",
      "execution_count": 11,
      "metadata": {
        "id": "PbjZCgBR73if",
        "colab": {
          "base_uri": "https://localhost:8080/",
          "height": 36
        },
        "outputId": "425dd13b-2c15-42b1-e848-a135f0df7782"
      },
      "outputs": [
        {
          "output_type": "execute_result",
          "data": {
            "text/plain": [
              "'Fido'"
            ],
            "application/vnd.google.colaboratory.intrinsic+json": {
              "type": "string"
            }
          },
          "metadata": {},
          "execution_count": 11
        }
      ],
      "source": [
        "class Dog():\n",
        "    def __init__(self, name):\n",
        "        self.name = name\n",
        "    \n",
        "\n",
        "my_dog = Dog(\"Fido\")\n",
        "\n",
        "my_dog.name"
      ]
    },
    {
      "cell_type": "code",
      "source": [
        "class Dog:\n",
        "    def __init__(self, name):\n",
        "        self.name = name\n",
        "    \n",
        "    def bark(self):\n",
        "        print(\"Woof woof!\")\n",
        "\n",
        "my_dog = Dog(\"Fido\")\n",
        "my_dog.bark()\n",
        "my_dog.name\n"
      ],
      "metadata": {
        "id": "fE2mhHuV_DRX",
        "colab": {
          "base_uri": "https://localhost:8080/",
          "height": 53
        },
        "outputId": "aa40d5fa-bd65-4527-9e5f-e557df254405"
      },
      "execution_count": 14,
      "outputs": [
        {
          "output_type": "stream",
          "name": "stdout",
          "text": [
            "Woof woof!\n"
          ]
        },
        {
          "output_type": "execute_result",
          "data": {
            "text/plain": [
              "'Fido'"
            ],
            "application/vnd.google.colaboratory.intrinsic+json": {
              "type": "string"
            }
          },
          "metadata": {},
          "execution_count": 14
        }
      ]
    },
    {
      "cell_type": "code",
      "source": [
        "class Square():\n",
        "    def __init__(self, side):\n",
        "        self.side = side\n",
        "    \n",
        "    def area(self):\n",
        "        return self.side * self.side\n",
        "\n",
        "    def operation(self):\n",
        "      return self.side * 3\n",
        "\n",
        "\n",
        "sqr = Square(9)\n",
        "sqr.operation()\n",
        "\n"
      ],
      "metadata": {
        "id": "JjQInLNJ_DUJ",
        "colab": {
          "base_uri": "https://localhost:8080/"
        },
        "outputId": "ee2cfd2f-af62-4043-af4e-55e647cf45d4"
      },
      "execution_count": 19,
      "outputs": [
        {
          "output_type": "execute_result",
          "data": {
            "text/plain": [
              "27"
            ]
          },
          "metadata": {},
          "execution_count": 19
        }
      ]
    },
    {
      "cell_type": "code",
      "source": [
        "class Circle:\n",
        "    pi = 3.14\n",
        "    def __init__(self, radius):\n",
        "        self.radius = radius\n",
        "\n",
        "    def circumference(self):\n",
        "        return 2*Circle.pi*self.radius\n",
        "\n",
        "    def area(self):\n",
        "      return Circle.pi * self.radius * self.radius\n",
        "\n",
        "      \n",
        "\n",
        "my_circle = Circle(5)\n",
        "my_circle.circumference()\n",
        "my_circle.area()\n",
        "\n",
        "# In this example, we have a Circle class with one attribute: radius.\n",
        "# The class also has one method: circumference(). The circumference() method calculates the circumference of the circle using the formula 2*pi*radius.\n",
        "# An object of the Circle class is created with the radius 5 then the circumference method is called, the circumference of the circle is returned."
      ],
      "metadata": {
        "id": "6-L-oIkmAfh_",
        "colab": {
          "base_uri": "https://localhost:8080/"
        },
        "outputId": "f4120ccc-4833-48d7-e05d-2000082baf28"
      },
      "execution_count": 21,
      "outputs": [
        {
          "output_type": "execute_result",
          "data": {
            "text/plain": [
              "78.5"
            ]
          },
          "metadata": {},
          "execution_count": 21
        }
      ]
    },
    {
      "cell_type": "code",
      "source": [
        "class Circle:\n",
        "    pi = 3.14\n",
        "    def __init__(self, radius):\n",
        "        self.radius = radius\n",
        "\n",
        "    def circumference(self):\n",
        "        return 2*Circle.pi*self.radius\n",
        "    \n",
        "    def area(self):\n",
        "        return Circle.pi * (self.radius ** 2)\n",
        "\n",
        "my_circle = Circle(5)\n",
        "\n"
      ],
      "metadata": {
        "id": "eXLDYmznBM5h"
      },
      "execution_count": 4,
      "outputs": []
    }
  ]
}