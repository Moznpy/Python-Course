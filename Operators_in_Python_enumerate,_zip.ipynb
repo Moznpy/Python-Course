{
  "nbformat": 4,
  "nbformat_minor": 0,
  "metadata": {
    "colab": {
      "provenance": [],
      "authorship_tag": "ABX9TyM/lf7T1bB1zYkRQKWJGrWH",
      "include_colab_link": true
    },
    "kernelspec": {
      "name": "python3",
      "display_name": "Python 3"
    },
    "language_info": {
      "name": "python"
    }
  },
  "cells": [
    {
      "cell_type": "markdown",
      "metadata": {
        "id": "view-in-github",
        "colab_type": "text"
      },
      "source": [
        "<a href=\"https://colab.research.google.com/github/Moznpy/Python-Course/blob/main/Operators_in_Python_enumerate%2C_zip.ipynb\" target=\"_parent\"><img src=\"https://colab.research.google.com/assets/colab-badge.svg\" alt=\"Open In Colab\"/></a>"
      ]
    },
    {
      "cell_type": "code",
      "execution_count": null,
      "metadata": {
        "id": "x8uMunocokmW"
      },
      "outputs": [],
      "source": [
        "# enumerate() is a built-in Python function that allows you to loop over a list of items\n",
        "# while keeping track of the index position of each item.\n",
        "# It takes an iterable object, such as a list, and returns an iterator that produces tuples containing the index and the value from the object at that index.\n",
        "\n"
      ]
    },
    {
      "cell_type": "code",
      "source": [
        "fruits = ['apple', 'banana', 'mango']\n",
        "\n",
        "for item in enumerate(fruits):\n",
        "  print (item)\n",
        "\n",
        "   \n"
      ],
      "metadata": {
        "colab": {
          "base_uri": "https://localhost:8080/"
        },
        "id": "NKDB15lVpiWp",
        "outputId": "c46accf7-3652-4861-8bac-aa35de3846a6"
      },
      "execution_count": 10,
      "outputs": [
        {
          "output_type": "stream",
          "name": "stdout",
          "text": [
            "(0, 'apple')\n",
            "(1, 'banana')\n",
            "(2, 'mango')\n"
          ]
        }
      ]
    },
    {
      "cell_type": "code",
      "source": [
        "fruits = ['apple', 'banana', 'mango']\n",
        "\n",
        "for index, fruite in enumerate(fruits):\n",
        "  print (index)\n",
        "  print (fruite)"
      ],
      "metadata": {
        "colab": {
          "base_uri": "https://localhost:8080/"
        },
        "id": "S7Ddv939sNWR",
        "outputId": "051cad64-bac2-4170-a7b2-1eebd0a33cc3"
      },
      "execution_count": 12,
      "outputs": [
        {
          "output_type": "stream",
          "name": "stdout",
          "text": [
            "0\n",
            "apple\n",
            "1\n",
            "banana\n",
            "2\n",
            "mango\n"
          ]
        }
      ]
    },
    {
      "cell_type": "code",
      "source": [
        "# The zip function takes in one or more iterable objects and returns an iterator of tuples. \n",
        "# The iterator's tuples contain the corresponding elements from each of the input iterables.\n",
        "\n",
        "# Here are some examples to illustrate how zip works:"
      ],
      "metadata": {
        "id": "s19xPeejrD3w"
      },
      "execution_count": null,
      "outputs": []
    },
    {
      "cell_type": "code",
      "source": [
        "# Zip two lists together\n",
        "list1 = [1, 2, 3]\n",
        "list2 = ['a', 'b', 'c']\n",
        "zipped = zip(list1, list2)\n",
        "print(list(zipped))  \n",
        "\n",
        "\n"
      ],
      "metadata": {
        "colab": {
          "base_uri": "https://localhost:8080/"
        },
        "id": "2jVL7QI2rHm_",
        "outputId": "a794f6fc-2c18-48f6-8c02-f7ec44a4f2ed"
      },
      "execution_count": 17,
      "outputs": [
        {
          "output_type": "stream",
          "name": "stdout",
          "text": [
            "[(1, 'a'), (2, 'b'), (3, 'c')]\n"
          ]
        }
      ]
    },
    {
      "cell_type": "code",
      "source": [
        "# Zip three lists together\n",
        "list1 = [1, 2, 3]\n",
        "list2 = ['a', 'b', 'c']\n",
        "list3 = [10, 20, 30]\n",
        "zipped = zip(list1, list2, list3)\n",
        "print(list(zipped))  # Output: [(1, 'a', 10), (2, 'b', 20), (3, 'c', 30)]\n"
      ],
      "metadata": {
        "colab": {
          "base_uri": "https://localhost:8080/"
        },
        "id": "Jo8bHxzCrHpo",
        "outputId": "43264475-0e8c-4f4b-9cdb-1e2f9d51b898"
      },
      "execution_count": 18,
      "outputs": [
        {
          "output_type": "stream",
          "name": "stdout",
          "text": [
            "[(1, 'a', 10), (2, 'b', 20), (3, 'c', 30)]\n"
          ]
        }
      ]
    },
    {
      "cell_type": "code",
      "source": [
        "\n",
        "# Zip two strings together\n",
        "string1 = 'abc'\n",
        "string2 = '123'\n",
        "zipped = zip(string1, string2)\n",
        "print(list(zipped))  # Output: [('a', '1'), ('b', '2'), ('c', '3')]\n"
      ],
      "metadata": {
        "colab": {
          "base_uri": "https://localhost:8080/"
        },
        "id": "ag6vWvUDrHr4",
        "outputId": "c79418fd-1ce2-4402-de45-a9c77fae7e28"
      },
      "execution_count": 19,
      "outputs": [
        {
          "output_type": "stream",
          "name": "stdout",
          "text": [
            "[('a', '1'), ('b', '2'), ('c', '3')]\n"
          ]
        }
      ]
    },
    {
      "cell_type": "code",
      "source": [
        "\n",
        "# Zip a list and a string\n",
        "list1 = [1, 2, 3]\n",
        "string1 = 'abc'\n",
        "zipped = zip(list1, string1)\n",
        "print(list(zipped))  # Output: [(1, 'a'), (2, 'b'), (3, 'c')]\n"
      ],
      "metadata": {
        "colab": {
          "base_uri": "https://localhost:8080/"
        },
        "id": "1QNis4dFrHuU",
        "outputId": "c7ba4bd3-9773-4115-bae6-1ba00f6814cc"
      },
      "execution_count": 20,
      "outputs": [
        {
          "output_type": "stream",
          "name": "stdout",
          "text": [
            "[(1, 'a'), (2, 'b'), (3, 'c')]\n"
          ]
        }
      ]
    },
    {
      "cell_type": "code",
      "source": [
        "\n",
        "# Zip two tuples together\n",
        "tuple1 = (1, 2, 3)\n",
        "tuple2 = ('a', 'b', 'c')\n",
        "zipped = zip(tuple1, tuple2)\n",
        "print(list(zipped))  # Output: [(1, 'a'), (2, 'b'), (3, 'c')]"
      ],
      "metadata": {
        "colab": {
          "base_uri": "https://localhost:8080/"
        },
        "id": "z93xSp7BrHwy",
        "outputId": "76fbcc1f-25b8-4826-b512-7d283c1a1151"
      },
      "execution_count": 21,
      "outputs": [
        {
          "output_type": "stream",
          "name": "stdout",
          "text": [
            "[(1, 'a'), (2, 'b'), (3, 'c')]\n"
          ]
        }
      ]
    },
    {
      "cell_type": "code",
      "source": [],
      "metadata": {
        "id": "eGwCl4BQrHzk"
      },
      "execution_count": null,
      "outputs": []
    }
  ]
}