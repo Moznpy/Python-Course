{
  "nbformat": 4,
  "nbformat_minor": 0,
  "metadata": {
    "colab": {
      "provenance": [],
      "authorship_tag": "ABX9TyNovijtHriNRtWbdoFBe8x+",
      "include_colab_link": true
    },
    "kernelspec": {
      "name": "python3",
      "display_name": "Python 3"
    },
    "language_info": {
      "name": "python"
    }
  },
  "cells": [
    {
      "cell_type": "markdown",
      "metadata": {
        "id": "view-in-github",
        "colab_type": "text"
      },
      "source": [
        "<a href=\"https://colab.research.google.com/github/Moznpy/Python-Course/blob/main/OOP_Inheritance.ipynb\" target=\"_parent\"><img src=\"https://colab.research.google.com/assets/colab-badge.svg\" alt=\"Open In Colab\"/></a>"
      ]
    },
    {
      "cell_type": "code",
      "execution_count": null,
      "metadata": {
        "id": "sznbBAVYnU-T"
      },
      "outputs": [],
      "source": [
        "# Inheritance is a mechanism in object-oriented programming that allows a new class (the subclass or derived class) to be based on an existing class (the superclass or base class). \n",
        "# The subclass inherits the attributes and behaviors of the superclass, and can also have its own attributes and behaviors.\n",
        "\n",
        "# Here is a simple example of inheritance in Python:"
      ]
    },
    {
      "cell_type": "code",
      "source": [
        "class Animals(): #This is a superclass\n",
        "    def __init__(self):\n",
        "        print(\"I am an animal\")\n",
        "    def make_sound(self):\n",
        "        print(\"Some generic animal sound\")\n",
        "\n",
        "class Dog(Animals): #This is a subclass\n",
        "    def __init__(self):\n",
        "        super().__init__()\n",
        "        print(\"I am a dog\")\n",
        "\n",
        "dog = Dog()\n",
        "dog.make_sound()\n",
        "\n"
      ],
      "metadata": {
        "colab": {
          "base_uri": "https://localhost:8080/"
        },
        "id": "W9DgdTTbZoY0",
        "outputId": "6207dada-d1bd-43ae-f776-af5a889af837"
      },
      "execution_count": 1,
      "outputs": [
        {
          "output_type": "stream",
          "name": "stdout",
          "text": [
            "I am an animal\n",
            "I am a dog\n",
            "Some generic animal sound\n"
          ]
        }
      ]
    },
    {
      "cell_type": "code",
      "source": [],
      "metadata": {
        "id": "V-lOQBB1Zoi9"
      },
      "execution_count": null,
      "outputs": []
    },
    {
      "cell_type": "code",
      "source": [
        "class Person: #superclass\n",
        "    def __init__(self, name):\n",
        "        self.name = name\n",
        "    def display_name(self):\n",
        "        print(f\"This is a person: {self.name}\")\n",
        "\n",
        "class Student(Person): #subclass\n",
        "    def __init__(self, name, id):\n",
        "        super().__init__(name)\n",
        "        self.id = id\n",
        "\n",
        "s = Student(\"Alice\", 123)\n",
        "s.display_name()\n",
        "\n",
        "\n"
      ],
      "metadata": {
        "colab": {
          "base_uri": "https://localhost:8080/"
        },
        "id": "7IQ-U12KZolf",
        "outputId": "176cba8f-80b3-4f1d-e47d-a124e4887009"
      },
      "execution_count": 2,
      "outputs": [
        {
          "output_type": "stream",
          "name": "stdout",
          "text": [
            "This is a person: Alice\n"
          ]
        }
      ]
    },
    {
      "cell_type": "code",
      "source": [
        "# The Student class doesn't have the display_name method, but it will inherit the display_name method from the Person class,\n",
        "#  and it can use it directly after the Student class init method is called.\n",
        "# You can see that when we create an instance of the Student class and call the display_name method on it, it will print \"This is a person: Alice\"."
      ],
      "metadata": {
        "id": "_8A-o-N9jN3n"
      },
      "execution_count": null,
      "outputs": []
    }
  ]
}